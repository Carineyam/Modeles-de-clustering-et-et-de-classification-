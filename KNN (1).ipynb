{
  "nbformat": 4,
  "nbformat_minor": 0,
  "metadata": {
    "colab": {
      "provenance": []
    },
    "kernelspec": {
      "name": "python3",
      "display_name": "Python 3"
    },
    "language_info": {
      "name": "python"
    }
  },
  "cells": [
    {
      "cell_type": "code",
      "execution_count": null,
      "metadata": {
        "id": "NRWBp1RcWVO2"
      },
      "outputs": [],
      "source": [
        "import pandas as pd\n",
        "import matplotlib.pyplot as plt\n",
        "import numpy as np\n",
        "import pandas as pd\n",
        "import time"
      ]
    },
    {
      "cell_type": "code",
      "source": [],
      "metadata": {
        "id": "vITSaBcoUMwc"
      },
      "execution_count": null,
      "outputs": []
    },
    {
      "cell_type": "code",
      "source": [
        "df=pd.read_csv(\"/content/customersclassifiers.csv\")\n",
        "df"
      ],
      "metadata": {
        "colab": {
          "base_uri": "https://localhost:8080/",
          "height": 423
        },
        "id": "AcMiFFAqhWNX",
        "outputId": "03559399-57f0-4417-a659-7319904ab426"
      },
      "execution_count": null,
      "outputs": [
        {
          "output_type": "execute_result",
          "data": {
            "text/plain": [
              "       CustomerID  Recency  Frequency  MonetaryValue  Cluster\n",
              "0          CUST-1        9         14         172.85        1\n",
              "1         CUST-10       36         14         221.81        1\n",
              "2        CUST-100       63          8          97.03        2\n",
              "3       CUST-1000       51          8          89.92        2\n",
              "4      CUST-10000       19         11         153.87        1\n",
              "...           ...      ...        ...            ...      ...\n",
              "71241   CUST-9995       41         10         166.86        1\n",
              "71242   CUST-9996       22         11         140.88        1\n",
              "71243   CUST-9997       14          9         125.90        0\n",
              "71244   CUST-9998       22         14         258.81        1\n",
              "71245   CUST-9999       45          8         144.88        2\n",
              "\n",
              "[71246 rows x 5 columns]"
            ],
            "text/html": [
              "\n",
              "  <div id=\"df-46b8f3c6-7a91-44cc-8cdf-c08885669b4e\">\n",
              "    <div class=\"colab-df-container\">\n",
              "      <div>\n",
              "<style scoped>\n",
              "    .dataframe tbody tr th:only-of-type {\n",
              "        vertical-align: middle;\n",
              "    }\n",
              "\n",
              "    .dataframe tbody tr th {\n",
              "        vertical-align: top;\n",
              "    }\n",
              "\n",
              "    .dataframe thead th {\n",
              "        text-align: right;\n",
              "    }\n",
              "</style>\n",
              "<table border=\"1\" class=\"dataframe\">\n",
              "  <thead>\n",
              "    <tr style=\"text-align: right;\">\n",
              "      <th></th>\n",
              "      <th>CustomerID</th>\n",
              "      <th>Recency</th>\n",
              "      <th>Frequency</th>\n",
              "      <th>MonetaryValue</th>\n",
              "      <th>Cluster</th>\n",
              "    </tr>\n",
              "  </thead>\n",
              "  <tbody>\n",
              "    <tr>\n",
              "      <th>0</th>\n",
              "      <td>CUST-1</td>\n",
              "      <td>9</td>\n",
              "      <td>14</td>\n",
              "      <td>172.85</td>\n",
              "      <td>1</td>\n",
              "    </tr>\n",
              "    <tr>\n",
              "      <th>1</th>\n",
              "      <td>CUST-10</td>\n",
              "      <td>36</td>\n",
              "      <td>14</td>\n",
              "      <td>221.81</td>\n",
              "      <td>1</td>\n",
              "    </tr>\n",
              "    <tr>\n",
              "      <th>2</th>\n",
              "      <td>CUST-100</td>\n",
              "      <td>63</td>\n",
              "      <td>8</td>\n",
              "      <td>97.03</td>\n",
              "      <td>2</td>\n",
              "    </tr>\n",
              "    <tr>\n",
              "      <th>3</th>\n",
              "      <td>CUST-1000</td>\n",
              "      <td>51</td>\n",
              "      <td>8</td>\n",
              "      <td>89.92</td>\n",
              "      <td>2</td>\n",
              "    </tr>\n",
              "    <tr>\n",
              "      <th>4</th>\n",
              "      <td>CUST-10000</td>\n",
              "      <td>19</td>\n",
              "      <td>11</td>\n",
              "      <td>153.87</td>\n",
              "      <td>1</td>\n",
              "    </tr>\n",
              "    <tr>\n",
              "      <th>...</th>\n",
              "      <td>...</td>\n",
              "      <td>...</td>\n",
              "      <td>...</td>\n",
              "      <td>...</td>\n",
              "      <td>...</td>\n",
              "    </tr>\n",
              "    <tr>\n",
              "      <th>71241</th>\n",
              "      <td>CUST-9995</td>\n",
              "      <td>41</td>\n",
              "      <td>10</td>\n",
              "      <td>166.86</td>\n",
              "      <td>1</td>\n",
              "    </tr>\n",
              "    <tr>\n",
              "      <th>71242</th>\n",
              "      <td>CUST-9996</td>\n",
              "      <td>22</td>\n",
              "      <td>11</td>\n",
              "      <td>140.88</td>\n",
              "      <td>1</td>\n",
              "    </tr>\n",
              "    <tr>\n",
              "      <th>71243</th>\n",
              "      <td>CUST-9997</td>\n",
              "      <td>14</td>\n",
              "      <td>9</td>\n",
              "      <td>125.90</td>\n",
              "      <td>0</td>\n",
              "    </tr>\n",
              "    <tr>\n",
              "      <th>71244</th>\n",
              "      <td>CUST-9998</td>\n",
              "      <td>22</td>\n",
              "      <td>14</td>\n",
              "      <td>258.81</td>\n",
              "      <td>1</td>\n",
              "    </tr>\n",
              "    <tr>\n",
              "      <th>71245</th>\n",
              "      <td>CUST-9999</td>\n",
              "      <td>45</td>\n",
              "      <td>8</td>\n",
              "      <td>144.88</td>\n",
              "      <td>2</td>\n",
              "    </tr>\n",
              "  </tbody>\n",
              "</table>\n",
              "<p>71246 rows × 5 columns</p>\n",
              "</div>\n",
              "      <button class=\"colab-df-convert\" onclick=\"convertToInteractive('df-46b8f3c6-7a91-44cc-8cdf-c08885669b4e')\"\n",
              "              title=\"Convert this dataframe to an interactive table.\"\n",
              "              style=\"display:none;\">\n",
              "        \n",
              "  <svg xmlns=\"http://www.w3.org/2000/svg\" height=\"24px\"viewBox=\"0 0 24 24\"\n",
              "       width=\"24px\">\n",
              "    <path d=\"M0 0h24v24H0V0z\" fill=\"none\"/>\n",
              "    <path d=\"M18.56 5.44l.94 2.06.94-2.06 2.06-.94-2.06-.94-.94-2.06-.94 2.06-2.06.94zm-11 1L8.5 8.5l.94-2.06 2.06-.94-2.06-.94L8.5 2.5l-.94 2.06-2.06.94zm10 10l.94 2.06.94-2.06 2.06-.94-2.06-.94-.94-2.06-.94 2.06-2.06.94z\"/><path d=\"M17.41 7.96l-1.37-1.37c-.4-.4-.92-.59-1.43-.59-.52 0-1.04.2-1.43.59L10.3 9.45l-7.72 7.72c-.78.78-.78 2.05 0 2.83L4 21.41c.39.39.9.59 1.41.59.51 0 1.02-.2 1.41-.59l7.78-7.78 2.81-2.81c.8-.78.8-2.07 0-2.86zM5.41 20L4 18.59l7.72-7.72 1.47 1.35L5.41 20z\"/>\n",
              "  </svg>\n",
              "      </button>\n",
              "      \n",
              "  <style>\n",
              "    .colab-df-container {\n",
              "      display:flex;\n",
              "      flex-wrap:wrap;\n",
              "      gap: 12px;\n",
              "    }\n",
              "\n",
              "    .colab-df-convert {\n",
              "      background-color: #E8F0FE;\n",
              "      border: none;\n",
              "      border-radius: 50%;\n",
              "      cursor: pointer;\n",
              "      display: none;\n",
              "      fill: #1967D2;\n",
              "      height: 32px;\n",
              "      padding: 0 0 0 0;\n",
              "      width: 32px;\n",
              "    }\n",
              "\n",
              "    .colab-df-convert:hover {\n",
              "      background-color: #E2EBFA;\n",
              "      box-shadow: 0px 1px 2px rgba(60, 64, 67, 0.3), 0px 1px 3px 1px rgba(60, 64, 67, 0.15);\n",
              "      fill: #174EA6;\n",
              "    }\n",
              "\n",
              "    [theme=dark] .colab-df-convert {\n",
              "      background-color: #3B4455;\n",
              "      fill: #D2E3FC;\n",
              "    }\n",
              "\n",
              "    [theme=dark] .colab-df-convert:hover {\n",
              "      background-color: #434B5C;\n",
              "      box-shadow: 0px 1px 3px 1px rgba(0, 0, 0, 0.15);\n",
              "      filter: drop-shadow(0px 1px 2px rgba(0, 0, 0, 0.3));\n",
              "      fill: #FFFFFF;\n",
              "    }\n",
              "  </style>\n",
              "\n",
              "      <script>\n",
              "        const buttonEl =\n",
              "          document.querySelector('#df-46b8f3c6-7a91-44cc-8cdf-c08885669b4e button.colab-df-convert');\n",
              "        buttonEl.style.display =\n",
              "          google.colab.kernel.accessAllowed ? 'block' : 'none';\n",
              "\n",
              "        async function convertToInteractive(key) {\n",
              "          const element = document.querySelector('#df-46b8f3c6-7a91-44cc-8cdf-c08885669b4e');\n",
              "          const dataTable =\n",
              "            await google.colab.kernel.invokeFunction('convertToInteractive',\n",
              "                                                     [key], {});\n",
              "          if (!dataTable) return;\n",
              "\n",
              "          const docLinkHtml = 'Like what you see? Visit the ' +\n",
              "            '<a target=\"_blank\" href=https://colab.research.google.com/notebooks/data_table.ipynb>data table notebook</a>'\n",
              "            + ' to learn more about interactive tables.';\n",
              "          element.innerHTML = '';\n",
              "          dataTable['output_type'] = 'display_data';\n",
              "          await google.colab.output.renderOutput(dataTable, element);\n",
              "          const docLink = document.createElement('div');\n",
              "          docLink.innerHTML = docLinkHtml;\n",
              "          element.appendChild(docLink);\n",
              "        }\n",
              "      </script>\n",
              "    </div>\n",
              "  </div>\n",
              "  "
            ]
          },
          "metadata": {},
          "execution_count": 82
        }
      ]
    },
    {
      "cell_type": "code",
      "source": [
        "valeur_a_remplacer = 2\n",
        "nouvelle_valeur = 1\n",
        "df = df.replace(valeur_a_remplacer, nouvelle_valeur)"
      ],
      "metadata": {
        "id": "fSkG8Bd7lMwq"
      },
      "execution_count": null,
      "outputs": []
    },
    {
      "cell_type": "code",
      "source": [
        "df"
      ],
      "metadata": {
        "colab": {
          "base_uri": "https://localhost:8080/",
          "height": 423
        },
        "id": "Fj1S_3yhlVl6",
        "outputId": "a8b85197-a305-4f81-a993-0aa7139744d4"
      },
      "execution_count": null,
      "outputs": [
        {
          "output_type": "execute_result",
          "data": {
            "text/plain": [
              "       CustomerID  Recency  Frequency  MonetaryValue  Cluster\n",
              "0          CUST-1        9         14         172.85        0\n",
              "1         CUST-10       36         14         221.81        0\n",
              "2        CUST-100       63          8          97.03        1\n",
              "3       CUST-1000       51          8          89.92        1\n",
              "4      CUST-10000       19         11         153.87        0\n",
              "...           ...      ...        ...            ...      ...\n",
              "71241   CUST-9995       41         10         166.86        0\n",
              "71242   CUST-9996       22         11         140.88        0\n",
              "71243   CUST-9997       14          9         125.90        1\n",
              "71244   CUST-9998       22         14         258.81        0\n",
              "71245   CUST-9999       45          8         144.88        1\n",
              "\n",
              "[71246 rows x 5 columns]"
            ],
            "text/html": [
              "\n",
              "  <div id=\"df-8f5417f2-275f-4e38-8033-e869e79b031c\">\n",
              "    <div class=\"colab-df-container\">\n",
              "      <div>\n",
              "<style scoped>\n",
              "    .dataframe tbody tr th:only-of-type {\n",
              "        vertical-align: middle;\n",
              "    }\n",
              "\n",
              "    .dataframe tbody tr th {\n",
              "        vertical-align: top;\n",
              "    }\n",
              "\n",
              "    .dataframe thead th {\n",
              "        text-align: right;\n",
              "    }\n",
              "</style>\n",
              "<table border=\"1\" class=\"dataframe\">\n",
              "  <thead>\n",
              "    <tr style=\"text-align: right;\">\n",
              "      <th></th>\n",
              "      <th>CustomerID</th>\n",
              "      <th>Recency</th>\n",
              "      <th>Frequency</th>\n",
              "      <th>MonetaryValue</th>\n",
              "      <th>Cluster</th>\n",
              "    </tr>\n",
              "  </thead>\n",
              "  <tbody>\n",
              "    <tr>\n",
              "      <th>0</th>\n",
              "      <td>CUST-1</td>\n",
              "      <td>9</td>\n",
              "      <td>14</td>\n",
              "      <td>172.85</td>\n",
              "      <td>0</td>\n",
              "    </tr>\n",
              "    <tr>\n",
              "      <th>1</th>\n",
              "      <td>CUST-10</td>\n",
              "      <td>36</td>\n",
              "      <td>14</td>\n",
              "      <td>221.81</td>\n",
              "      <td>0</td>\n",
              "    </tr>\n",
              "    <tr>\n",
              "      <th>2</th>\n",
              "      <td>CUST-100</td>\n",
              "      <td>63</td>\n",
              "      <td>8</td>\n",
              "      <td>97.03</td>\n",
              "      <td>1</td>\n",
              "    </tr>\n",
              "    <tr>\n",
              "      <th>3</th>\n",
              "      <td>CUST-1000</td>\n",
              "      <td>51</td>\n",
              "      <td>8</td>\n",
              "      <td>89.92</td>\n",
              "      <td>1</td>\n",
              "    </tr>\n",
              "    <tr>\n",
              "      <th>4</th>\n",
              "      <td>CUST-10000</td>\n",
              "      <td>19</td>\n",
              "      <td>11</td>\n",
              "      <td>153.87</td>\n",
              "      <td>0</td>\n",
              "    </tr>\n",
              "    <tr>\n",
              "      <th>...</th>\n",
              "      <td>...</td>\n",
              "      <td>...</td>\n",
              "      <td>...</td>\n",
              "      <td>...</td>\n",
              "      <td>...</td>\n",
              "    </tr>\n",
              "    <tr>\n",
              "      <th>71241</th>\n",
              "      <td>CUST-9995</td>\n",
              "      <td>41</td>\n",
              "      <td>10</td>\n",
              "      <td>166.86</td>\n",
              "      <td>0</td>\n",
              "    </tr>\n",
              "    <tr>\n",
              "      <th>71242</th>\n",
              "      <td>CUST-9996</td>\n",
              "      <td>22</td>\n",
              "      <td>11</td>\n",
              "      <td>140.88</td>\n",
              "      <td>0</td>\n",
              "    </tr>\n",
              "    <tr>\n",
              "      <th>71243</th>\n",
              "      <td>CUST-9997</td>\n",
              "      <td>14</td>\n",
              "      <td>9</td>\n",
              "      <td>125.90</td>\n",
              "      <td>1</td>\n",
              "    </tr>\n",
              "    <tr>\n",
              "      <th>71244</th>\n",
              "      <td>CUST-9998</td>\n",
              "      <td>22</td>\n",
              "      <td>14</td>\n",
              "      <td>258.81</td>\n",
              "      <td>0</td>\n",
              "    </tr>\n",
              "    <tr>\n",
              "      <th>71245</th>\n",
              "      <td>CUST-9999</td>\n",
              "      <td>45</td>\n",
              "      <td>8</td>\n",
              "      <td>144.88</td>\n",
              "      <td>1</td>\n",
              "    </tr>\n",
              "  </tbody>\n",
              "</table>\n",
              "<p>71246 rows × 5 columns</p>\n",
              "</div>\n",
              "      <button class=\"colab-df-convert\" onclick=\"convertToInteractive('df-8f5417f2-275f-4e38-8033-e869e79b031c')\"\n",
              "              title=\"Convert this dataframe to an interactive table.\"\n",
              "              style=\"display:none;\">\n",
              "        \n",
              "  <svg xmlns=\"http://www.w3.org/2000/svg\" height=\"24px\"viewBox=\"0 0 24 24\"\n",
              "       width=\"24px\">\n",
              "    <path d=\"M0 0h24v24H0V0z\" fill=\"none\"/>\n",
              "    <path d=\"M18.56 5.44l.94 2.06.94-2.06 2.06-.94-2.06-.94-.94-2.06-.94 2.06-2.06.94zm-11 1L8.5 8.5l.94-2.06 2.06-.94-2.06-.94L8.5 2.5l-.94 2.06-2.06.94zm10 10l.94 2.06.94-2.06 2.06-.94-2.06-.94-.94-2.06-.94 2.06-2.06.94z\"/><path d=\"M17.41 7.96l-1.37-1.37c-.4-.4-.92-.59-1.43-.59-.52 0-1.04.2-1.43.59L10.3 9.45l-7.72 7.72c-.78.78-.78 2.05 0 2.83L4 21.41c.39.39.9.59 1.41.59.51 0 1.02-.2 1.41-.59l7.78-7.78 2.81-2.81c.8-.78.8-2.07 0-2.86zM5.41 20L4 18.59l7.72-7.72 1.47 1.35L5.41 20z\"/>\n",
              "  </svg>\n",
              "      </button>\n",
              "      \n",
              "  <style>\n",
              "    .colab-df-container {\n",
              "      display:flex;\n",
              "      flex-wrap:wrap;\n",
              "      gap: 12px;\n",
              "    }\n",
              "\n",
              "    .colab-df-convert {\n",
              "      background-color: #E8F0FE;\n",
              "      border: none;\n",
              "      border-radius: 50%;\n",
              "      cursor: pointer;\n",
              "      display: none;\n",
              "      fill: #1967D2;\n",
              "      height: 32px;\n",
              "      padding: 0 0 0 0;\n",
              "      width: 32px;\n",
              "    }\n",
              "\n",
              "    .colab-df-convert:hover {\n",
              "      background-color: #E2EBFA;\n",
              "      box-shadow: 0px 1px 2px rgba(60, 64, 67, 0.3), 0px 1px 3px 1px rgba(60, 64, 67, 0.15);\n",
              "      fill: #174EA6;\n",
              "    }\n",
              "\n",
              "    [theme=dark] .colab-df-convert {\n",
              "      background-color: #3B4455;\n",
              "      fill: #D2E3FC;\n",
              "    }\n",
              "\n",
              "    [theme=dark] .colab-df-convert:hover {\n",
              "      background-color: #434B5C;\n",
              "      box-shadow: 0px 1px 3px 1px rgba(0, 0, 0, 0.15);\n",
              "      filter: drop-shadow(0px 1px 2px rgba(0, 0, 0, 0.3));\n",
              "      fill: #FFFFFF;\n",
              "    }\n",
              "  </style>\n",
              "\n",
              "      <script>\n",
              "        const buttonEl =\n",
              "          document.querySelector('#df-8f5417f2-275f-4e38-8033-e869e79b031c button.colab-df-convert');\n",
              "        buttonEl.style.display =\n",
              "          google.colab.kernel.accessAllowed ? 'block' : 'none';\n",
              "\n",
              "        async function convertToInteractive(key) {\n",
              "          const element = document.querySelector('#df-8f5417f2-275f-4e38-8033-e869e79b031c');\n",
              "          const dataTable =\n",
              "            await google.colab.kernel.invokeFunction('convertToInteractive',\n",
              "                                                     [key], {});\n",
              "          if (!dataTable) return;\n",
              "\n",
              "          const docLinkHtml = 'Like what you see? Visit the ' +\n",
              "            '<a target=\"_blank\" href=https://colab.research.google.com/notebooks/data_table.ipynb>data table notebook</a>'\n",
              "            + ' to learn more about interactive tables.';\n",
              "          element.innerHTML = '';\n",
              "          dataTable['output_type'] = 'display_data';\n",
              "          await google.colab.output.renderOutput(dataTable, element);\n",
              "          const docLink = document.createElement('div');\n",
              "          docLink.innerHTML = docLinkHtml;\n",
              "          element.appendChild(docLink);\n",
              "        }\n",
              "      </script>\n",
              "    </div>\n",
              "  </div>\n",
              "  "
            ]
          },
          "metadata": {},
          "execution_count": 86
        }
      ]
    },
    {
      "cell_type": "code",
      "source": [
        "df.to_csv(\"customerscluster.csv\")"
      ],
      "metadata": {
        "id": "BhUrduyqemJB"
      },
      "execution_count": null,
      "outputs": []
    },
    {
      "cell_type": "code",
      "source": [
        "df1=pd.read_csv(\"/content/customerscluster.csv\")\n",
        "df2=pd.read_csv(\"/content/customersdescription.csv\")\n",
        "print(df1)\n",
        "print(df2)\n"
      ],
      "metadata": {
        "colab": {
          "base_uri": "https://localhost:8080/"
        },
        "id": "NupVRkwml8b0",
        "outputId": "eab6536d-266d-409a-c7ee-4bb2457dab6e"
      },
      "execution_count": null,
      "outputs": [
        {
          "output_type": "stream",
          "name": "stdout",
          "text": [
            "       Unnamed: 0  CustomerID  Recency  Frequency  MonetaryValue  Cluster\n",
            "0               0      CUST-1        9         14         172.85        0\n",
            "1               1     CUST-10       36         14         221.81        0\n",
            "2               2    CUST-100       63          8          97.03        1\n",
            "3               3   CUST-1000       51          8          89.92        1\n",
            "4               4  CUST-10000       19         11         153.87        0\n",
            "...           ...         ...      ...        ...            ...      ...\n",
            "71241       71241   CUST-9995       41         10         166.86        0\n",
            "71242       71242   CUST-9996       22         11         140.88        0\n",
            "71243       71243   CUST-9997       14          9         125.90        1\n",
            "71244       71244   CUST-9998       22         14         258.81        0\n",
            "71245       71245   CUST-9999       45          8         144.88        1\n",
            "\n",
            "[71246 rows x 6 columns]\n",
            "       Unnamed: 0  CustomerID  CityID  Age  Gender\n",
            "0               0  CUST-44505       4   31  Female\n",
            "1               1  CUST-17838       6   20  Female\n",
            "2               2  CUST-42677       3   27    Male\n",
            "3               3  CUST-52773       5   21    Male\n",
            "4               4  CUST-58348       6   23  Female\n",
            "...           ...         ...     ...  ...     ...\n",
            "71241       71241  CUST-60493       1   28    Male\n",
            "71242       71242  CUST-61917       3   23  Female\n",
            "71243       71243  CUST-40105       1   29  Female\n",
            "71244       71244   CUST-2739       3   24  Female\n",
            "71245       71245  CUST-61230       2   23    Male\n",
            "\n",
            "[71246 rows x 5 columns]\n"
          ]
        }
      ]
    },
    {
      "cell_type": "code",
      "source": [
        "data=pd.merge(df1,df2,on=\"CustomerID\")\n",
        "data"
      ],
      "metadata": {
        "colab": {
          "base_uri": "https://localhost:8080/",
          "height": 423
        },
        "id": "MN1N9ez4mMfC",
        "outputId": "f4ab1db8-5e41-465f-9748-ef2004c176c1"
      },
      "execution_count": null,
      "outputs": [
        {
          "output_type": "execute_result",
          "data": {
            "text/plain": [
              "       Unnamed: 0_x  CustomerID  Recency  Frequency  MonetaryValue  Cluster  \\\n",
              "0                 0      CUST-1        9         14         172.85        0   \n",
              "1                 1     CUST-10       36         14         221.81        0   \n",
              "2                 2    CUST-100       63          8          97.03        1   \n",
              "3                 3   CUST-1000       51          8          89.92        1   \n",
              "4                 4  CUST-10000       19         11         153.87        0   \n",
              "...             ...         ...      ...        ...            ...      ...   \n",
              "71241         71241   CUST-9995       41         10         166.86        0   \n",
              "71242         71242   CUST-9996       22         11         140.88        0   \n",
              "71243         71243   CUST-9997       14          9         125.90        1   \n",
              "71244         71244   CUST-9998       22         14         258.81        0   \n",
              "71245         71245   CUST-9999       45          8         144.88        1   \n",
              "\n",
              "       Unnamed: 0_y  CityID  Age  Gender  \n",
              "0             43129       6   20  Female  \n",
              "1             55144       3   23    Male  \n",
              "2              6615       3   32  Female  \n",
              "3              8862       3   24    Male  \n",
              "4             32124       2   25    Male  \n",
              "...             ...     ...  ...     ...  \n",
              "71241         58340       2   31    Male  \n",
              "71242         44755       4   24    Male  \n",
              "71243         30817       4   31  Female  \n",
              "71244         54128       6   24  Female  \n",
              "71245         35373       3   22  Female  \n",
              "\n",
              "[71246 rows x 10 columns]"
            ],
            "text/html": [
              "\n",
              "  <div id=\"df-a782a528-8028-4af6-ac98-335559285408\">\n",
              "    <div class=\"colab-df-container\">\n",
              "      <div>\n",
              "<style scoped>\n",
              "    .dataframe tbody tr th:only-of-type {\n",
              "        vertical-align: middle;\n",
              "    }\n",
              "\n",
              "    .dataframe tbody tr th {\n",
              "        vertical-align: top;\n",
              "    }\n",
              "\n",
              "    .dataframe thead th {\n",
              "        text-align: right;\n",
              "    }\n",
              "</style>\n",
              "<table border=\"1\" class=\"dataframe\">\n",
              "  <thead>\n",
              "    <tr style=\"text-align: right;\">\n",
              "      <th></th>\n",
              "      <th>Unnamed: 0_x</th>\n",
              "      <th>CustomerID</th>\n",
              "      <th>Recency</th>\n",
              "      <th>Frequency</th>\n",
              "      <th>MonetaryValue</th>\n",
              "      <th>Cluster</th>\n",
              "      <th>Unnamed: 0_y</th>\n",
              "      <th>CityID</th>\n",
              "      <th>Age</th>\n",
              "      <th>Gender</th>\n",
              "    </tr>\n",
              "  </thead>\n",
              "  <tbody>\n",
              "    <tr>\n",
              "      <th>0</th>\n",
              "      <td>0</td>\n",
              "      <td>CUST-1</td>\n",
              "      <td>9</td>\n",
              "      <td>14</td>\n",
              "      <td>172.85</td>\n",
              "      <td>0</td>\n",
              "      <td>43129</td>\n",
              "      <td>6</td>\n",
              "      <td>20</td>\n",
              "      <td>Female</td>\n",
              "    </tr>\n",
              "    <tr>\n",
              "      <th>1</th>\n",
              "      <td>1</td>\n",
              "      <td>CUST-10</td>\n",
              "      <td>36</td>\n",
              "      <td>14</td>\n",
              "      <td>221.81</td>\n",
              "      <td>0</td>\n",
              "      <td>55144</td>\n",
              "      <td>3</td>\n",
              "      <td>23</td>\n",
              "      <td>Male</td>\n",
              "    </tr>\n",
              "    <tr>\n",
              "      <th>2</th>\n",
              "      <td>2</td>\n",
              "      <td>CUST-100</td>\n",
              "      <td>63</td>\n",
              "      <td>8</td>\n",
              "      <td>97.03</td>\n",
              "      <td>1</td>\n",
              "      <td>6615</td>\n",
              "      <td>3</td>\n",
              "      <td>32</td>\n",
              "      <td>Female</td>\n",
              "    </tr>\n",
              "    <tr>\n",
              "      <th>3</th>\n",
              "      <td>3</td>\n",
              "      <td>CUST-1000</td>\n",
              "      <td>51</td>\n",
              "      <td>8</td>\n",
              "      <td>89.92</td>\n",
              "      <td>1</td>\n",
              "      <td>8862</td>\n",
              "      <td>3</td>\n",
              "      <td>24</td>\n",
              "      <td>Male</td>\n",
              "    </tr>\n",
              "    <tr>\n",
              "      <th>4</th>\n",
              "      <td>4</td>\n",
              "      <td>CUST-10000</td>\n",
              "      <td>19</td>\n",
              "      <td>11</td>\n",
              "      <td>153.87</td>\n",
              "      <td>0</td>\n",
              "      <td>32124</td>\n",
              "      <td>2</td>\n",
              "      <td>25</td>\n",
              "      <td>Male</td>\n",
              "    </tr>\n",
              "    <tr>\n",
              "      <th>...</th>\n",
              "      <td>...</td>\n",
              "      <td>...</td>\n",
              "      <td>...</td>\n",
              "      <td>...</td>\n",
              "      <td>...</td>\n",
              "      <td>...</td>\n",
              "      <td>...</td>\n",
              "      <td>...</td>\n",
              "      <td>...</td>\n",
              "      <td>...</td>\n",
              "    </tr>\n",
              "    <tr>\n",
              "      <th>71241</th>\n",
              "      <td>71241</td>\n",
              "      <td>CUST-9995</td>\n",
              "      <td>41</td>\n",
              "      <td>10</td>\n",
              "      <td>166.86</td>\n",
              "      <td>0</td>\n",
              "      <td>58340</td>\n",
              "      <td>2</td>\n",
              "      <td>31</td>\n",
              "      <td>Male</td>\n",
              "    </tr>\n",
              "    <tr>\n",
              "      <th>71242</th>\n",
              "      <td>71242</td>\n",
              "      <td>CUST-9996</td>\n",
              "      <td>22</td>\n",
              "      <td>11</td>\n",
              "      <td>140.88</td>\n",
              "      <td>0</td>\n",
              "      <td>44755</td>\n",
              "      <td>4</td>\n",
              "      <td>24</td>\n",
              "      <td>Male</td>\n",
              "    </tr>\n",
              "    <tr>\n",
              "      <th>71243</th>\n",
              "      <td>71243</td>\n",
              "      <td>CUST-9997</td>\n",
              "      <td>14</td>\n",
              "      <td>9</td>\n",
              "      <td>125.90</td>\n",
              "      <td>1</td>\n",
              "      <td>30817</td>\n",
              "      <td>4</td>\n",
              "      <td>31</td>\n",
              "      <td>Female</td>\n",
              "    </tr>\n",
              "    <tr>\n",
              "      <th>71244</th>\n",
              "      <td>71244</td>\n",
              "      <td>CUST-9998</td>\n",
              "      <td>22</td>\n",
              "      <td>14</td>\n",
              "      <td>258.81</td>\n",
              "      <td>0</td>\n",
              "      <td>54128</td>\n",
              "      <td>6</td>\n",
              "      <td>24</td>\n",
              "      <td>Female</td>\n",
              "    </tr>\n",
              "    <tr>\n",
              "      <th>71245</th>\n",
              "      <td>71245</td>\n",
              "      <td>CUST-9999</td>\n",
              "      <td>45</td>\n",
              "      <td>8</td>\n",
              "      <td>144.88</td>\n",
              "      <td>1</td>\n",
              "      <td>35373</td>\n",
              "      <td>3</td>\n",
              "      <td>22</td>\n",
              "      <td>Female</td>\n",
              "    </tr>\n",
              "  </tbody>\n",
              "</table>\n",
              "<p>71246 rows × 10 columns</p>\n",
              "</div>\n",
              "      <button class=\"colab-df-convert\" onclick=\"convertToInteractive('df-a782a528-8028-4af6-ac98-335559285408')\"\n",
              "              title=\"Convert this dataframe to an interactive table.\"\n",
              "              style=\"display:none;\">\n",
              "        \n",
              "  <svg xmlns=\"http://www.w3.org/2000/svg\" height=\"24px\"viewBox=\"0 0 24 24\"\n",
              "       width=\"24px\">\n",
              "    <path d=\"M0 0h24v24H0V0z\" fill=\"none\"/>\n",
              "    <path d=\"M18.56 5.44l.94 2.06.94-2.06 2.06-.94-2.06-.94-.94-2.06-.94 2.06-2.06.94zm-11 1L8.5 8.5l.94-2.06 2.06-.94-2.06-.94L8.5 2.5l-.94 2.06-2.06.94zm10 10l.94 2.06.94-2.06 2.06-.94-2.06-.94-.94-2.06-.94 2.06-2.06.94z\"/><path d=\"M17.41 7.96l-1.37-1.37c-.4-.4-.92-.59-1.43-.59-.52 0-1.04.2-1.43.59L10.3 9.45l-7.72 7.72c-.78.78-.78 2.05 0 2.83L4 21.41c.39.39.9.59 1.41.59.51 0 1.02-.2 1.41-.59l7.78-7.78 2.81-2.81c.8-.78.8-2.07 0-2.86zM5.41 20L4 18.59l7.72-7.72 1.47 1.35L5.41 20z\"/>\n",
              "  </svg>\n",
              "      </button>\n",
              "      \n",
              "  <style>\n",
              "    .colab-df-container {\n",
              "      display:flex;\n",
              "      flex-wrap:wrap;\n",
              "      gap: 12px;\n",
              "    }\n",
              "\n",
              "    .colab-df-convert {\n",
              "      background-color: #E8F0FE;\n",
              "      border: none;\n",
              "      border-radius: 50%;\n",
              "      cursor: pointer;\n",
              "      display: none;\n",
              "      fill: #1967D2;\n",
              "      height: 32px;\n",
              "      padding: 0 0 0 0;\n",
              "      width: 32px;\n",
              "    }\n",
              "\n",
              "    .colab-df-convert:hover {\n",
              "      background-color: #E2EBFA;\n",
              "      box-shadow: 0px 1px 2px rgba(60, 64, 67, 0.3), 0px 1px 3px 1px rgba(60, 64, 67, 0.15);\n",
              "      fill: #174EA6;\n",
              "    }\n",
              "\n",
              "    [theme=dark] .colab-df-convert {\n",
              "      background-color: #3B4455;\n",
              "      fill: #D2E3FC;\n",
              "    }\n",
              "\n",
              "    [theme=dark] .colab-df-convert:hover {\n",
              "      background-color: #434B5C;\n",
              "      box-shadow: 0px 1px 3px 1px rgba(0, 0, 0, 0.15);\n",
              "      filter: drop-shadow(0px 1px 2px rgba(0, 0, 0, 0.3));\n",
              "      fill: #FFFFFF;\n",
              "    }\n",
              "  </style>\n",
              "\n",
              "      <script>\n",
              "        const buttonEl =\n",
              "          document.querySelector('#df-a782a528-8028-4af6-ac98-335559285408 button.colab-df-convert');\n",
              "        buttonEl.style.display =\n",
              "          google.colab.kernel.accessAllowed ? 'block' : 'none';\n",
              "\n",
              "        async function convertToInteractive(key) {\n",
              "          const element = document.querySelector('#df-a782a528-8028-4af6-ac98-335559285408');\n",
              "          const dataTable =\n",
              "            await google.colab.kernel.invokeFunction('convertToInteractive',\n",
              "                                                     [key], {});\n",
              "          if (!dataTable) return;\n",
              "\n",
              "          const docLinkHtml = 'Like what you see? Visit the ' +\n",
              "            '<a target=\"_blank\" href=https://colab.research.google.com/notebooks/data_table.ipynb>data table notebook</a>'\n",
              "            + ' to learn more about interactive tables.';\n",
              "          element.innerHTML = '';\n",
              "          dataTable['output_type'] = 'display_data';\n",
              "          await google.colab.output.renderOutput(dataTable, element);\n",
              "          const docLink = document.createElement('div');\n",
              "          docLink.innerHTML = docLinkHtml;\n",
              "          element.appendChild(docLink);\n",
              "        }\n",
              "      </script>\n",
              "    </div>\n",
              "  </div>\n",
              "  "
            ]
          },
          "metadata": {},
          "execution_count": 156
        }
      ]
    },
    {
      "cell_type": "code",
      "source": [
        "ordre_colonnes = ['CustomerID', 'Recency', 'Frequency','MonetaryValue','CityID','Age','Gender','Cluster']\n",
        "data = data[ordre_colonnes]\n",
        "data"
      ],
      "metadata": {
        "colab": {
          "base_uri": "https://localhost:8080/",
          "height": 423
        },
        "id": "UgsH24iZnUCM",
        "outputId": "606578be-2679-4bed-8491-2c71f65e2a8c"
      },
      "execution_count": null,
      "outputs": [
        {
          "output_type": "execute_result",
          "data": {
            "text/plain": [
              "       CustomerID  Recency  Frequency  MonetaryValue  CityID  Age  Gender  \\\n",
              "0          CUST-1        9         14         172.85       6   20  Female   \n",
              "1         CUST-10       36         14         221.81       3   23    Male   \n",
              "2        CUST-100       63          8          97.03       3   32  Female   \n",
              "3       CUST-1000       51          8          89.92       3   24    Male   \n",
              "4      CUST-10000       19         11         153.87       2   25    Male   \n",
              "...           ...      ...        ...            ...     ...  ...     ...   \n",
              "71241   CUST-9995       41         10         166.86       2   31    Male   \n",
              "71242   CUST-9996       22         11         140.88       4   24    Male   \n",
              "71243   CUST-9997       14          9         125.90       4   31  Female   \n",
              "71244   CUST-9998       22         14         258.81       6   24  Female   \n",
              "71245   CUST-9999       45          8         144.88       3   22  Female   \n",
              "\n",
              "       Cluster  \n",
              "0            0  \n",
              "1            0  \n",
              "2            1  \n",
              "3            1  \n",
              "4            0  \n",
              "...        ...  \n",
              "71241        0  \n",
              "71242        0  \n",
              "71243        1  \n",
              "71244        0  \n",
              "71245        1  \n",
              "\n",
              "[71246 rows x 8 columns]"
            ],
            "text/html": [
              "\n",
              "  <div id=\"df-68871624-166c-4ecf-8391-abc7e6529e9d\">\n",
              "    <div class=\"colab-df-container\">\n",
              "      <div>\n",
              "<style scoped>\n",
              "    .dataframe tbody tr th:only-of-type {\n",
              "        vertical-align: middle;\n",
              "    }\n",
              "\n",
              "    .dataframe tbody tr th {\n",
              "        vertical-align: top;\n",
              "    }\n",
              "\n",
              "    .dataframe thead th {\n",
              "        text-align: right;\n",
              "    }\n",
              "</style>\n",
              "<table border=\"1\" class=\"dataframe\">\n",
              "  <thead>\n",
              "    <tr style=\"text-align: right;\">\n",
              "      <th></th>\n",
              "      <th>CustomerID</th>\n",
              "      <th>Recency</th>\n",
              "      <th>Frequency</th>\n",
              "      <th>MonetaryValue</th>\n",
              "      <th>CityID</th>\n",
              "      <th>Age</th>\n",
              "      <th>Gender</th>\n",
              "      <th>Cluster</th>\n",
              "    </tr>\n",
              "  </thead>\n",
              "  <tbody>\n",
              "    <tr>\n",
              "      <th>0</th>\n",
              "      <td>CUST-1</td>\n",
              "      <td>9</td>\n",
              "      <td>14</td>\n",
              "      <td>172.85</td>\n",
              "      <td>6</td>\n",
              "      <td>20</td>\n",
              "      <td>Female</td>\n",
              "      <td>0</td>\n",
              "    </tr>\n",
              "    <tr>\n",
              "      <th>1</th>\n",
              "      <td>CUST-10</td>\n",
              "      <td>36</td>\n",
              "      <td>14</td>\n",
              "      <td>221.81</td>\n",
              "      <td>3</td>\n",
              "      <td>23</td>\n",
              "      <td>Male</td>\n",
              "      <td>0</td>\n",
              "    </tr>\n",
              "    <tr>\n",
              "      <th>2</th>\n",
              "      <td>CUST-100</td>\n",
              "      <td>63</td>\n",
              "      <td>8</td>\n",
              "      <td>97.03</td>\n",
              "      <td>3</td>\n",
              "      <td>32</td>\n",
              "      <td>Female</td>\n",
              "      <td>1</td>\n",
              "    </tr>\n",
              "    <tr>\n",
              "      <th>3</th>\n",
              "      <td>CUST-1000</td>\n",
              "      <td>51</td>\n",
              "      <td>8</td>\n",
              "      <td>89.92</td>\n",
              "      <td>3</td>\n",
              "      <td>24</td>\n",
              "      <td>Male</td>\n",
              "      <td>1</td>\n",
              "    </tr>\n",
              "    <tr>\n",
              "      <th>4</th>\n",
              "      <td>CUST-10000</td>\n",
              "      <td>19</td>\n",
              "      <td>11</td>\n",
              "      <td>153.87</td>\n",
              "      <td>2</td>\n",
              "      <td>25</td>\n",
              "      <td>Male</td>\n",
              "      <td>0</td>\n",
              "    </tr>\n",
              "    <tr>\n",
              "      <th>...</th>\n",
              "      <td>...</td>\n",
              "      <td>...</td>\n",
              "      <td>...</td>\n",
              "      <td>...</td>\n",
              "      <td>...</td>\n",
              "      <td>...</td>\n",
              "      <td>...</td>\n",
              "      <td>...</td>\n",
              "    </tr>\n",
              "    <tr>\n",
              "      <th>71241</th>\n",
              "      <td>CUST-9995</td>\n",
              "      <td>41</td>\n",
              "      <td>10</td>\n",
              "      <td>166.86</td>\n",
              "      <td>2</td>\n",
              "      <td>31</td>\n",
              "      <td>Male</td>\n",
              "      <td>0</td>\n",
              "    </tr>\n",
              "    <tr>\n",
              "      <th>71242</th>\n",
              "      <td>CUST-9996</td>\n",
              "      <td>22</td>\n",
              "      <td>11</td>\n",
              "      <td>140.88</td>\n",
              "      <td>4</td>\n",
              "      <td>24</td>\n",
              "      <td>Male</td>\n",
              "      <td>0</td>\n",
              "    </tr>\n",
              "    <tr>\n",
              "      <th>71243</th>\n",
              "      <td>CUST-9997</td>\n",
              "      <td>14</td>\n",
              "      <td>9</td>\n",
              "      <td>125.90</td>\n",
              "      <td>4</td>\n",
              "      <td>31</td>\n",
              "      <td>Female</td>\n",
              "      <td>1</td>\n",
              "    </tr>\n",
              "    <tr>\n",
              "      <th>71244</th>\n",
              "      <td>CUST-9998</td>\n",
              "      <td>22</td>\n",
              "      <td>14</td>\n",
              "      <td>258.81</td>\n",
              "      <td>6</td>\n",
              "      <td>24</td>\n",
              "      <td>Female</td>\n",
              "      <td>0</td>\n",
              "    </tr>\n",
              "    <tr>\n",
              "      <th>71245</th>\n",
              "      <td>CUST-9999</td>\n",
              "      <td>45</td>\n",
              "      <td>8</td>\n",
              "      <td>144.88</td>\n",
              "      <td>3</td>\n",
              "      <td>22</td>\n",
              "      <td>Female</td>\n",
              "      <td>1</td>\n",
              "    </tr>\n",
              "  </tbody>\n",
              "</table>\n",
              "<p>71246 rows × 8 columns</p>\n",
              "</div>\n",
              "      <button class=\"colab-df-convert\" onclick=\"convertToInteractive('df-68871624-166c-4ecf-8391-abc7e6529e9d')\"\n",
              "              title=\"Convert this dataframe to an interactive table.\"\n",
              "              style=\"display:none;\">\n",
              "        \n",
              "  <svg xmlns=\"http://www.w3.org/2000/svg\" height=\"24px\"viewBox=\"0 0 24 24\"\n",
              "       width=\"24px\">\n",
              "    <path d=\"M0 0h24v24H0V0z\" fill=\"none\"/>\n",
              "    <path d=\"M18.56 5.44l.94 2.06.94-2.06 2.06-.94-2.06-.94-.94-2.06-.94 2.06-2.06.94zm-11 1L8.5 8.5l.94-2.06 2.06-.94-2.06-.94L8.5 2.5l-.94 2.06-2.06.94zm10 10l.94 2.06.94-2.06 2.06-.94-2.06-.94-.94-2.06-.94 2.06-2.06.94z\"/><path d=\"M17.41 7.96l-1.37-1.37c-.4-.4-.92-.59-1.43-.59-.52 0-1.04.2-1.43.59L10.3 9.45l-7.72 7.72c-.78.78-.78 2.05 0 2.83L4 21.41c.39.39.9.59 1.41.59.51 0 1.02-.2 1.41-.59l7.78-7.78 2.81-2.81c.8-.78.8-2.07 0-2.86zM5.41 20L4 18.59l7.72-7.72 1.47 1.35L5.41 20z\"/>\n",
              "  </svg>\n",
              "      </button>\n",
              "      \n",
              "  <style>\n",
              "    .colab-df-container {\n",
              "      display:flex;\n",
              "      flex-wrap:wrap;\n",
              "      gap: 12px;\n",
              "    }\n",
              "\n",
              "    .colab-df-convert {\n",
              "      background-color: #E8F0FE;\n",
              "      border: none;\n",
              "      border-radius: 50%;\n",
              "      cursor: pointer;\n",
              "      display: none;\n",
              "      fill: #1967D2;\n",
              "      height: 32px;\n",
              "      padding: 0 0 0 0;\n",
              "      width: 32px;\n",
              "    }\n",
              "\n",
              "    .colab-df-convert:hover {\n",
              "      background-color: #E2EBFA;\n",
              "      box-shadow: 0px 1px 2px rgba(60, 64, 67, 0.3), 0px 1px 3px 1px rgba(60, 64, 67, 0.15);\n",
              "      fill: #174EA6;\n",
              "    }\n",
              "\n",
              "    [theme=dark] .colab-df-convert {\n",
              "      background-color: #3B4455;\n",
              "      fill: #D2E3FC;\n",
              "    }\n",
              "\n",
              "    [theme=dark] .colab-df-convert:hover {\n",
              "      background-color: #434B5C;\n",
              "      box-shadow: 0px 1px 3px 1px rgba(0, 0, 0, 0.15);\n",
              "      filter: drop-shadow(0px 1px 2px rgba(0, 0, 0, 0.3));\n",
              "      fill: #FFFFFF;\n",
              "    }\n",
              "  </style>\n",
              "\n",
              "      <script>\n",
              "        const buttonEl =\n",
              "          document.querySelector('#df-68871624-166c-4ecf-8391-abc7e6529e9d button.colab-df-convert');\n",
              "        buttonEl.style.display =\n",
              "          google.colab.kernel.accessAllowed ? 'block' : 'none';\n",
              "\n",
              "        async function convertToInteractive(key) {\n",
              "          const element = document.querySelector('#df-68871624-166c-4ecf-8391-abc7e6529e9d');\n",
              "          const dataTable =\n",
              "            await google.colab.kernel.invokeFunction('convertToInteractive',\n",
              "                                                     [key], {});\n",
              "          if (!dataTable) return;\n",
              "\n",
              "          const docLinkHtml = 'Like what you see? Visit the ' +\n",
              "            '<a target=\"_blank\" href=https://colab.research.google.com/notebooks/data_table.ipynb>data table notebook</a>'\n",
              "            + ' to learn more about interactive tables.';\n",
              "          element.innerHTML = '';\n",
              "          dataTable['output_type'] = 'display_data';\n",
              "          await google.colab.output.renderOutput(dataTable, element);\n",
              "          const docLink = document.createElement('div');\n",
              "          docLink.innerHTML = docLinkHtml;\n",
              "          element.appendChild(docLink);\n",
              "        }\n",
              "      </script>\n",
              "    </div>\n",
              "  </div>\n",
              "  "
            ]
          },
          "metadata": {},
          "execution_count": 157
        }
      ]
    },
    {
      "cell_type": "code",
      "source": [
        "data.to_csv(\"customersfinal.csv\")"
      ],
      "metadata": {
        "id": "QXZfIh8cn5gY"
      },
      "execution_count": null,
      "outputs": []
    },
    {
      "cell_type": "code",
      "source": [
        "df=data"
      ],
      "metadata": {
        "id": "bg0BrR-WoUpY"
      },
      "execution_count": null,
      "outputs": []
    },
    {
      "cell_type": "code",
      "source": [
        "dataframe = pd.DataFrame(df, columns=['Recency', 'Frequency', 'MonetaryValue'])\n",
        "print(\"Dataframe is : \")\n",
        "print(dataframe)\n",
        "\n",
        "# form correlation matrix\n",
        "matrix = dataframe.corr()\n",
        "print(\"Correlation matrix is : \")\n",
        "print(matrix)"
      ],
      "metadata": {
        "colab": {
          "base_uri": "https://localhost:8080/"
        },
        "id": "owp7NaRklfQ3",
        "outputId": "67f9c77e-16d8-4544-a8c4-d5b63b2ab41e"
      },
      "execution_count": null,
      "outputs": [
        {
          "output_type": "stream",
          "name": "stdout",
          "text": [
            "Dataframe is : \n",
            "       Recency  Frequency  MonetaryValue\n",
            "0            9         14         172.85\n",
            "1           36         14         221.81\n",
            "2           63          8          97.03\n",
            "3           51          8          89.92\n",
            "4           19         11         153.87\n",
            "...        ...        ...            ...\n",
            "71241       41         10         166.86\n",
            "71242       22         11         140.88\n",
            "71243       14          9         125.90\n",
            "71244       22         14         258.81\n",
            "71245       45          8         144.88\n",
            "\n",
            "[71246 rows x 3 columns]\n",
            "Correlation matrix is : \n",
            "                Recency  Frequency  MonetaryValue\n",
            "Recency        1.000000  -0.332519      -0.260185\n",
            "Frequency     -0.332519   1.000000       0.779339\n",
            "MonetaryValue -0.260185   0.779339       1.000000\n"
          ]
        }
      ]
    },
    {
      "cell_type": "code",
      "source": [
        "dataframe = pd.DataFrame(df, columns=['Recency', 'Frequency', 'MonetaryValue','CityID','Age','Gender'])\n",
        "print(\"Dataframe is : \")\n",
        "print(dataframe)\n",
        "\n",
        "# form correlation matrix\n",
        "matrix = dataframe.corr()\n",
        "print(\"Correlation matrix is : \")\n",
        "print(matrix)"
      ],
      "metadata": {
        "colab": {
          "base_uri": "https://localhost:8080/"
        },
        "id": "-ezlJ74MoS5W",
        "outputId": "2333d61b-1733-43b9-8726-dab941279963"
      },
      "execution_count": null,
      "outputs": [
        {
          "output_type": "stream",
          "name": "stdout",
          "text": [
            "Dataframe is : \n",
            "       Recency  Frequency  MonetaryValue  CityID  Age  Gender\n",
            "0            9         14         172.85       6   20  Female\n",
            "1           36         14         221.81       3   23    Male\n",
            "2           63          8          97.03       3   32  Female\n",
            "3           51          8          89.92       3   24    Male\n",
            "4           19         11         153.87       2   25    Male\n",
            "...        ...        ...            ...     ...  ...     ...\n",
            "71241       41         10         166.86       2   31    Male\n",
            "71242       22         11         140.88       4   24    Male\n",
            "71243       14          9         125.90       4   31  Female\n",
            "71244       22         14         258.81       6   24  Female\n",
            "71245       45          8         144.88       3   22  Female\n",
            "\n",
            "[71246 rows x 6 columns]\n",
            "Correlation matrix is : \n",
            "                Recency  Frequency  MonetaryValue    CityID       Age\n",
            "Recency        1.000000  -0.332519      -0.260185  0.001138  0.005678\n",
            "Frequency     -0.332519   1.000000       0.779339  0.004882 -0.003156\n",
            "MonetaryValue -0.260185   0.779339       1.000000 -0.000199 -0.003340\n",
            "CityID         0.001138   0.004882      -0.000199  1.000000  0.001609\n",
            "Age            0.005678  -0.003156      -0.003340  0.001609  1.000000\n"
          ]
        },
        {
          "output_type": "stream",
          "name": "stderr",
          "text": [
            "<ipython-input-160-2fbb0f91b4d1>:6: FutureWarning: The default value of numeric_only in DataFrame.corr is deprecated. In a future version, it will default to False. Select only valid columns or specify the value of numeric_only to silence this warning.\n",
            "  matrix = dataframe.corr()\n"
          ]
        }
      ]
    },
    {
      "cell_type": "code",
      "source": [
        "from sklearn.preprocessing import LabelEncoder\n",
        "le = LabelEncoder()\n",
        "df[\"CityID\"] = le.fit_transform(df['CityID'])\n",
        "df"
      ],
      "metadata": {
        "colab": {
          "base_uri": "https://localhost:8080/",
          "height": 547
        },
        "id": "NLC1Tj8Foqhs",
        "outputId": "cb8a362a-2c77-457e-f996-2800ddc59923"
      },
      "execution_count": null,
      "outputs": [
        {
          "output_type": "stream",
          "name": "stderr",
          "text": [
            "<ipython-input-255-0e2904dab960>:3: SettingWithCopyWarning: \n",
            "A value is trying to be set on a copy of a slice from a DataFrame.\n",
            "Try using .loc[row_indexer,col_indexer] = value instead\n",
            "\n",
            "See the caveats in the documentation: https://pandas.pydata.org/pandas-docs/stable/user_guide/indexing.html#returning-a-view-versus-a-copy\n",
            "  df[\"CityID\"] = le.fit_transform(df['CityID'])\n"
          ]
        },
        {
          "output_type": "execute_result",
          "data": {
            "text/plain": [
              "       CustomerID  Recency  Frequency  MonetaryValue  CityID  Age  Gender  \\\n",
              "0          CUST-1        9         14         172.85       5   20       1   \n",
              "1         CUST-10       36         14         221.81       2   23       2   \n",
              "2        CUST-100       63          8          97.03       2   32       1   \n",
              "3       CUST-1000       51          8          89.92       2   24       2   \n",
              "4      CUST-10000       19         11         153.87       1   25       2   \n",
              "...           ...      ...        ...            ...     ...  ...     ...   \n",
              "71241   CUST-9995       41         10         166.86       1   31       2   \n",
              "71242   CUST-9996       22         11         140.88       3   24       2   \n",
              "71243   CUST-9997       14          9         125.90       3   31       1   \n",
              "71244   CUST-9998       22         14         258.81       5   24       1   \n",
              "71245   CUST-9999       45          8         144.88       2   22       1   \n",
              "\n",
              "       Cluster  \n",
              "0            0  \n",
              "1            0  \n",
              "2            1  \n",
              "3            1  \n",
              "4            0  \n",
              "...        ...  \n",
              "71241        0  \n",
              "71242        0  \n",
              "71243        1  \n",
              "71244        0  \n",
              "71245        1  \n",
              "\n",
              "[71246 rows x 8 columns]"
            ],
            "text/html": [
              "\n",
              "  <div id=\"df-8f5ed2ce-654f-436b-862d-ebab2ee9a580\">\n",
              "    <div class=\"colab-df-container\">\n",
              "      <div>\n",
              "<style scoped>\n",
              "    .dataframe tbody tr th:only-of-type {\n",
              "        vertical-align: middle;\n",
              "    }\n",
              "\n",
              "    .dataframe tbody tr th {\n",
              "        vertical-align: top;\n",
              "    }\n",
              "\n",
              "    .dataframe thead th {\n",
              "        text-align: right;\n",
              "    }\n",
              "</style>\n",
              "<table border=\"1\" class=\"dataframe\">\n",
              "  <thead>\n",
              "    <tr style=\"text-align: right;\">\n",
              "      <th></th>\n",
              "      <th>CustomerID</th>\n",
              "      <th>Recency</th>\n",
              "      <th>Frequency</th>\n",
              "      <th>MonetaryValue</th>\n",
              "      <th>CityID</th>\n",
              "      <th>Age</th>\n",
              "      <th>Gender</th>\n",
              "      <th>Cluster</th>\n",
              "    </tr>\n",
              "  </thead>\n",
              "  <tbody>\n",
              "    <tr>\n",
              "      <th>0</th>\n",
              "      <td>CUST-1</td>\n",
              "      <td>9</td>\n",
              "      <td>14</td>\n",
              "      <td>172.85</td>\n",
              "      <td>5</td>\n",
              "      <td>20</td>\n",
              "      <td>1</td>\n",
              "      <td>0</td>\n",
              "    </tr>\n",
              "    <tr>\n",
              "      <th>1</th>\n",
              "      <td>CUST-10</td>\n",
              "      <td>36</td>\n",
              "      <td>14</td>\n",
              "      <td>221.81</td>\n",
              "      <td>2</td>\n",
              "      <td>23</td>\n",
              "      <td>2</td>\n",
              "      <td>0</td>\n",
              "    </tr>\n",
              "    <tr>\n",
              "      <th>2</th>\n",
              "      <td>CUST-100</td>\n",
              "      <td>63</td>\n",
              "      <td>8</td>\n",
              "      <td>97.03</td>\n",
              "      <td>2</td>\n",
              "      <td>32</td>\n",
              "      <td>1</td>\n",
              "      <td>1</td>\n",
              "    </tr>\n",
              "    <tr>\n",
              "      <th>3</th>\n",
              "      <td>CUST-1000</td>\n",
              "      <td>51</td>\n",
              "      <td>8</td>\n",
              "      <td>89.92</td>\n",
              "      <td>2</td>\n",
              "      <td>24</td>\n",
              "      <td>2</td>\n",
              "      <td>1</td>\n",
              "    </tr>\n",
              "    <tr>\n",
              "      <th>4</th>\n",
              "      <td>CUST-10000</td>\n",
              "      <td>19</td>\n",
              "      <td>11</td>\n",
              "      <td>153.87</td>\n",
              "      <td>1</td>\n",
              "      <td>25</td>\n",
              "      <td>2</td>\n",
              "      <td>0</td>\n",
              "    </tr>\n",
              "    <tr>\n",
              "      <th>...</th>\n",
              "      <td>...</td>\n",
              "      <td>...</td>\n",
              "      <td>...</td>\n",
              "      <td>...</td>\n",
              "      <td>...</td>\n",
              "      <td>...</td>\n",
              "      <td>...</td>\n",
              "      <td>...</td>\n",
              "    </tr>\n",
              "    <tr>\n",
              "      <th>71241</th>\n",
              "      <td>CUST-9995</td>\n",
              "      <td>41</td>\n",
              "      <td>10</td>\n",
              "      <td>166.86</td>\n",
              "      <td>1</td>\n",
              "      <td>31</td>\n",
              "      <td>2</td>\n",
              "      <td>0</td>\n",
              "    </tr>\n",
              "    <tr>\n",
              "      <th>71242</th>\n",
              "      <td>CUST-9996</td>\n",
              "      <td>22</td>\n",
              "      <td>11</td>\n",
              "      <td>140.88</td>\n",
              "      <td>3</td>\n",
              "      <td>24</td>\n",
              "      <td>2</td>\n",
              "      <td>0</td>\n",
              "    </tr>\n",
              "    <tr>\n",
              "      <th>71243</th>\n",
              "      <td>CUST-9997</td>\n",
              "      <td>14</td>\n",
              "      <td>9</td>\n",
              "      <td>125.90</td>\n",
              "      <td>3</td>\n",
              "      <td>31</td>\n",
              "      <td>1</td>\n",
              "      <td>1</td>\n",
              "    </tr>\n",
              "    <tr>\n",
              "      <th>71244</th>\n",
              "      <td>CUST-9998</td>\n",
              "      <td>22</td>\n",
              "      <td>14</td>\n",
              "      <td>258.81</td>\n",
              "      <td>5</td>\n",
              "      <td>24</td>\n",
              "      <td>1</td>\n",
              "      <td>0</td>\n",
              "    </tr>\n",
              "    <tr>\n",
              "      <th>71245</th>\n",
              "      <td>CUST-9999</td>\n",
              "      <td>45</td>\n",
              "      <td>8</td>\n",
              "      <td>144.88</td>\n",
              "      <td>2</td>\n",
              "      <td>22</td>\n",
              "      <td>1</td>\n",
              "      <td>1</td>\n",
              "    </tr>\n",
              "  </tbody>\n",
              "</table>\n",
              "<p>71246 rows × 8 columns</p>\n",
              "</div>\n",
              "      <button class=\"colab-df-convert\" onclick=\"convertToInteractive('df-8f5ed2ce-654f-436b-862d-ebab2ee9a580')\"\n",
              "              title=\"Convert this dataframe to an interactive table.\"\n",
              "              style=\"display:none;\">\n",
              "        \n",
              "  <svg xmlns=\"http://www.w3.org/2000/svg\" height=\"24px\"viewBox=\"0 0 24 24\"\n",
              "       width=\"24px\">\n",
              "    <path d=\"M0 0h24v24H0V0z\" fill=\"none\"/>\n",
              "    <path d=\"M18.56 5.44l.94 2.06.94-2.06 2.06-.94-2.06-.94-.94-2.06-.94 2.06-2.06.94zm-11 1L8.5 8.5l.94-2.06 2.06-.94-2.06-.94L8.5 2.5l-.94 2.06-2.06.94zm10 10l.94 2.06.94-2.06 2.06-.94-2.06-.94-.94-2.06-.94 2.06-2.06.94z\"/><path d=\"M17.41 7.96l-1.37-1.37c-.4-.4-.92-.59-1.43-.59-.52 0-1.04.2-1.43.59L10.3 9.45l-7.72 7.72c-.78.78-.78 2.05 0 2.83L4 21.41c.39.39.9.59 1.41.59.51 0 1.02-.2 1.41-.59l7.78-7.78 2.81-2.81c.8-.78.8-2.07 0-2.86zM5.41 20L4 18.59l7.72-7.72 1.47 1.35L5.41 20z\"/>\n",
              "  </svg>\n",
              "      </button>\n",
              "      \n",
              "  <style>\n",
              "    .colab-df-container {\n",
              "      display:flex;\n",
              "      flex-wrap:wrap;\n",
              "      gap: 12px;\n",
              "    }\n",
              "\n",
              "    .colab-df-convert {\n",
              "      background-color: #E8F0FE;\n",
              "      border: none;\n",
              "      border-radius: 50%;\n",
              "      cursor: pointer;\n",
              "      display: none;\n",
              "      fill: #1967D2;\n",
              "      height: 32px;\n",
              "      padding: 0 0 0 0;\n",
              "      width: 32px;\n",
              "    }\n",
              "\n",
              "    .colab-df-convert:hover {\n",
              "      background-color: #E2EBFA;\n",
              "      box-shadow: 0px 1px 2px rgba(60, 64, 67, 0.3), 0px 1px 3px 1px rgba(60, 64, 67, 0.15);\n",
              "      fill: #174EA6;\n",
              "    }\n",
              "\n",
              "    [theme=dark] .colab-df-convert {\n",
              "      background-color: #3B4455;\n",
              "      fill: #D2E3FC;\n",
              "    }\n",
              "\n",
              "    [theme=dark] .colab-df-convert:hover {\n",
              "      background-color: #434B5C;\n",
              "      box-shadow: 0px 1px 3px 1px rgba(0, 0, 0, 0.15);\n",
              "      filter: drop-shadow(0px 1px 2px rgba(0, 0, 0, 0.3));\n",
              "      fill: #FFFFFF;\n",
              "    }\n",
              "  </style>\n",
              "\n",
              "      <script>\n",
              "        const buttonEl =\n",
              "          document.querySelector('#df-8f5ed2ce-654f-436b-862d-ebab2ee9a580 button.colab-df-convert');\n",
              "        buttonEl.style.display =\n",
              "          google.colab.kernel.accessAllowed ? 'block' : 'none';\n",
              "\n",
              "        async function convertToInteractive(key) {\n",
              "          const element = document.querySelector('#df-8f5ed2ce-654f-436b-862d-ebab2ee9a580');\n",
              "          const dataTable =\n",
              "            await google.colab.kernel.invokeFunction('convertToInteractive',\n",
              "                                                     [key], {});\n",
              "          if (!dataTable) return;\n",
              "\n",
              "          const docLinkHtml = 'Like what you see? Visit the ' +\n",
              "            '<a target=\"_blank\" href=https://colab.research.google.com/notebooks/data_table.ipynb>data table notebook</a>'\n",
              "            + ' to learn more about interactive tables.';\n",
              "          element.innerHTML = '';\n",
              "          dataTable['output_type'] = 'display_data';\n",
              "          await google.colab.output.renderOutput(dataTable, element);\n",
              "          const docLink = document.createElement('div');\n",
              "          docLink.innerHTML = docLinkHtml;\n",
              "          element.appendChild(docLink);\n",
              "        }\n",
              "      </script>\n",
              "    </div>\n",
              "  </div>\n",
              "  "
            ]
          },
          "metadata": {},
          "execution_count": 255
        }
      ]
    },
    {
      "cell_type": "code",
      "source": [
        "X = df.iloc[:, 1:-1].to_numpy()\n",
        "Y = df.iloc[:, -1].to_numpy()\n",
        "print('predictor attribute', X)\n",
        "print('target attribute', Y)"
      ],
      "metadata": {
        "colab": {
          "base_uri": "https://localhost:8080/"
        },
        "id": "T8yOEXs8llBy",
        "outputId": "ca03574c-fc4b-403c-b570-3199b7016a70"
      },
      "execution_count": null,
      "outputs": [
        {
          "output_type": "stream",
          "name": "stdout",
          "text": [
            "predictor attribute [[  9.    14.   172.85   5.    20.     1.  ]\n",
            " [ 36.    14.   221.81   2.    23.     2.  ]\n",
            " [ 63.     8.    97.03   2.    32.     1.  ]\n",
            " ...\n",
            " [ 14.     9.   125.9    3.    31.     1.  ]\n",
            " [ 22.    14.   258.81   5.    24.     1.  ]\n",
            " [ 45.     8.   144.88   2.    22.     1.  ]]\n",
            "target attribute [0 0 1 ... 1 0 1]\n"
          ]
        }
      ]
    },
    {
      "cell_type": "code",
      "source": [
        "sc_X = StandardScaler()\n",
        "X = sc_X.fit_transform(X)\n",
        "X"
      ],
      "metadata": {
        "colab": {
          "base_uri": "https://localhost:8080/"
        },
        "id": "LMKj7Esnl7KP",
        "outputId": "2208c24c-6071-47e0-defa-5703c190b34a"
      },
      "execution_count": null,
      "outputs": [
        {
          "output_type": "execute_result",
          "data": {
            "text/plain": [
              "array([[ 1.51336206, -1.55864712, -1.15238724],\n",
              "       [-0.30595119, -0.54732356,  0.86766446],\n",
              "       [-0.30595119,  2.48664714, -1.15238724],\n",
              "       ...,\n",
              "       [ 0.30048656,  2.14953929, -1.15238724],\n",
              "       [ 1.51336206, -0.2102157 , -1.15238724],\n",
              "       [-0.30595119, -0.88443141, -1.15238724]])"
            ]
          },
          "metadata": {},
          "execution_count": 257
        }
      ]
    },
    {
      "cell_type": "code",
      "source": [
        "X_train, X_test, y_train, y_test = train_test_split(X, Y, test_size = 0.2, random_state = 0)"
      ],
      "metadata": {
        "id": "4h9JCayImEvW"
      },
      "execution_count": null,
      "outputs": []
    },
    {
      "cell_type": "code",
      "source": [
        "print(\"X_train\", X_train.shape)\n",
        "print(\"Y_train\", y_train.shape)"
      ],
      "metadata": {
        "colab": {
          "base_uri": "https://localhost:8080/"
        },
        "id": "LEW_Ktz0mTQ0",
        "outputId": "a7a891f1-dcd2-42ae-ef4f-26b22cfc59ce"
      },
      "execution_count": null,
      "outputs": [
        {
          "output_type": "stream",
          "name": "stdout",
          "text": [
            "X_train (56996, 6)\n",
            "Y_train (56996,)\n"
          ]
        }
      ]
    },
    {
      "cell_type": "code",
      "source": [
        "print(\"X_test\", X_test.shape)\n",
        "print(\"X_test\", y_test.shape)"
      ],
      "metadata": {
        "colab": {
          "base_uri": "https://localhost:8080/"
        },
        "id": "RnwQ5QxEmZUJ",
        "outputId": "ad6b9de4-e900-4105-e3dc-799878414df0"
      },
      "execution_count": null,
      "outputs": [
        {
          "output_type": "stream",
          "name": "stdout",
          "text": [
            "X_test (14250, 6)\n",
            "X_test (14250,)\n"
          ]
        }
      ]
    },
    {
      "cell_type": "markdown",
      "source": [
        "KNN\n"
      ],
      "metadata": {
        "id": "LcvWfcK_K2MN"
      }
    },
    {
      "cell_type": "code",
      "source": [
        "from sklearn import neighbors\n",
        "\n",
        "knn = neighbors.KNeighborsClassifier(n_neighbors=3)\n",
        "knn.fit(X_train,y_train)"
      ],
      "metadata": {
        "colab": {
          "base_uri": "https://localhost:8080/",
          "height": 74
        },
        "id": "F4mYqflomhbZ",
        "outputId": "57e27673-b13c-4f9f-abd2-5b03e6e19ce6"
      },
      "execution_count": null,
      "outputs": [
        {
          "output_type": "execute_result",
          "data": {
            "text/plain": [
              "KNeighborsClassifier(n_neighbors=3)"
            ],
            "text/html": [
              "<style>#sk-container-id-73 {color: black;background-color: white;}#sk-container-id-73 pre{padding: 0;}#sk-container-id-73 div.sk-toggleable {background-color: white;}#sk-container-id-73 label.sk-toggleable__label {cursor: pointer;display: block;width: 100%;margin-bottom: 0;padding: 0.3em;box-sizing: border-box;text-align: center;}#sk-container-id-73 label.sk-toggleable__label-arrow:before {content: \"▸\";float: left;margin-right: 0.25em;color: #696969;}#sk-container-id-73 label.sk-toggleable__label-arrow:hover:before {color: black;}#sk-container-id-73 div.sk-estimator:hover label.sk-toggleable__label-arrow:before {color: black;}#sk-container-id-73 div.sk-toggleable__content {max-height: 0;max-width: 0;overflow: hidden;text-align: left;background-color: #f0f8ff;}#sk-container-id-73 div.sk-toggleable__content pre {margin: 0.2em;color: black;border-radius: 0.25em;background-color: #f0f8ff;}#sk-container-id-73 input.sk-toggleable__control:checked~div.sk-toggleable__content {max-height: 200px;max-width: 100%;overflow: auto;}#sk-container-id-73 input.sk-toggleable__control:checked~label.sk-toggleable__label-arrow:before {content: \"▾\";}#sk-container-id-73 div.sk-estimator input.sk-toggleable__control:checked~label.sk-toggleable__label {background-color: #d4ebff;}#sk-container-id-73 div.sk-label input.sk-toggleable__control:checked~label.sk-toggleable__label {background-color: #d4ebff;}#sk-container-id-73 input.sk-hidden--visually {border: 0;clip: rect(1px 1px 1px 1px);clip: rect(1px, 1px, 1px, 1px);height: 1px;margin: -1px;overflow: hidden;padding: 0;position: absolute;width: 1px;}#sk-container-id-73 div.sk-estimator {font-family: monospace;background-color: #f0f8ff;border: 1px dotted black;border-radius: 0.25em;box-sizing: border-box;margin-bottom: 0.5em;}#sk-container-id-73 div.sk-estimator:hover {background-color: #d4ebff;}#sk-container-id-73 div.sk-parallel-item::after {content: \"\";width: 100%;border-bottom: 1px solid gray;flex-grow: 1;}#sk-container-id-73 div.sk-label:hover label.sk-toggleable__label {background-color: #d4ebff;}#sk-container-id-73 div.sk-serial::before {content: \"\";position: absolute;border-left: 1px solid gray;box-sizing: border-box;top: 0;bottom: 0;left: 50%;z-index: 0;}#sk-container-id-73 div.sk-serial {display: flex;flex-direction: column;align-items: center;background-color: white;padding-right: 0.2em;padding-left: 0.2em;position: relative;}#sk-container-id-73 div.sk-item {position: relative;z-index: 1;}#sk-container-id-73 div.sk-parallel {display: flex;align-items: stretch;justify-content: center;background-color: white;position: relative;}#sk-container-id-73 div.sk-item::before, #sk-container-id-73 div.sk-parallel-item::before {content: \"\";position: absolute;border-left: 1px solid gray;box-sizing: border-box;top: 0;bottom: 0;left: 50%;z-index: -1;}#sk-container-id-73 div.sk-parallel-item {display: flex;flex-direction: column;z-index: 1;position: relative;background-color: white;}#sk-container-id-73 div.sk-parallel-item:first-child::after {align-self: flex-end;width: 50%;}#sk-container-id-73 div.sk-parallel-item:last-child::after {align-self: flex-start;width: 50%;}#sk-container-id-73 div.sk-parallel-item:only-child::after {width: 0;}#sk-container-id-73 div.sk-dashed-wrapped {border: 1px dashed gray;margin: 0 0.4em 0.5em 0.4em;box-sizing: border-box;padding-bottom: 0.4em;background-color: white;}#sk-container-id-73 div.sk-label label {font-family: monospace;font-weight: bold;display: inline-block;line-height: 1.2em;}#sk-container-id-73 div.sk-label-container {text-align: center;}#sk-container-id-73 div.sk-container {/* jupyter's `normalize.less` sets `[hidden] { display: none; }` but bootstrap.min.css set `[hidden] { display: none !important; }` so we also need the `!important` here to be able to override the default hidden behavior on the sphinx rendered scikit-learn.org. See: https://github.com/scikit-learn/scikit-learn/issues/21755 */display: inline-block !important;position: relative;}#sk-container-id-73 div.sk-text-repr-fallback {display: none;}</style><div id=\"sk-container-id-73\" class=\"sk-top-container\"><div class=\"sk-text-repr-fallback\"><pre>KNeighborsClassifier(n_neighbors=3)</pre><b>In a Jupyter environment, please rerun this cell to show the HTML representation or trust the notebook. <br />On GitHub, the HTML representation is unable to render, please try loading this page with nbviewer.org.</b></div><div class=\"sk-container\" hidden><div class=\"sk-item\"><div class=\"sk-estimator sk-toggleable\"><input class=\"sk-toggleable__control sk-hidden--visually\" id=\"sk-estimator-id-73\" type=\"checkbox\" checked><label for=\"sk-estimator-id-73\" class=\"sk-toggleable__label sk-toggleable__label-arrow\">KNeighborsClassifier</label><div class=\"sk-toggleable__content\"><pre>KNeighborsClassifier(n_neighbors=3)</pre></div></div></div></div></div>"
            ]
          },
          "metadata": {},
          "execution_count": 474
        }
      ]
    },
    {
      "cell_type": "code",
      "source": [
        "from sklearn.neighbors import KNeighborsClassifier\n",
        "knn_Sklearn = KNeighborsClassifier(n_neighbors= 3, metric= 'minkowski', p= 2)"
      ],
      "metadata": {
        "id": "Cu0LOZdYsLSh"
      },
      "execution_count": null,
      "outputs": []
    },
    {
      "cell_type": "code",
      "source": [
        "knn_Sklearn.fit(X_train, y_train)"
      ],
      "metadata": {
        "colab": {
          "base_uri": "https://localhost:8080/",
          "height": 74
        },
        "id": "37x8bsv9t51S",
        "outputId": "5413d595-39a4-4a39-d48d-5cace65536cc"
      },
      "execution_count": null,
      "outputs": [
        {
          "output_type": "execute_result",
          "data": {
            "text/plain": [
              "KNeighborsClassifier(n_neighbors=3)"
            ],
            "text/html": [
              "<style>#sk-container-id-74 {color: black;background-color: white;}#sk-container-id-74 pre{padding: 0;}#sk-container-id-74 div.sk-toggleable {background-color: white;}#sk-container-id-74 label.sk-toggleable__label {cursor: pointer;display: block;width: 100%;margin-bottom: 0;padding: 0.3em;box-sizing: border-box;text-align: center;}#sk-container-id-74 label.sk-toggleable__label-arrow:before {content: \"▸\";float: left;margin-right: 0.25em;color: #696969;}#sk-container-id-74 label.sk-toggleable__label-arrow:hover:before {color: black;}#sk-container-id-74 div.sk-estimator:hover label.sk-toggleable__label-arrow:before {color: black;}#sk-container-id-74 div.sk-toggleable__content {max-height: 0;max-width: 0;overflow: hidden;text-align: left;background-color: #f0f8ff;}#sk-container-id-74 div.sk-toggleable__content pre {margin: 0.2em;color: black;border-radius: 0.25em;background-color: #f0f8ff;}#sk-container-id-74 input.sk-toggleable__control:checked~div.sk-toggleable__content {max-height: 200px;max-width: 100%;overflow: auto;}#sk-container-id-74 input.sk-toggleable__control:checked~label.sk-toggleable__label-arrow:before {content: \"▾\";}#sk-container-id-74 div.sk-estimator input.sk-toggleable__control:checked~label.sk-toggleable__label {background-color: #d4ebff;}#sk-container-id-74 div.sk-label input.sk-toggleable__control:checked~label.sk-toggleable__label {background-color: #d4ebff;}#sk-container-id-74 input.sk-hidden--visually {border: 0;clip: rect(1px 1px 1px 1px);clip: rect(1px, 1px, 1px, 1px);height: 1px;margin: -1px;overflow: hidden;padding: 0;position: absolute;width: 1px;}#sk-container-id-74 div.sk-estimator {font-family: monospace;background-color: #f0f8ff;border: 1px dotted black;border-radius: 0.25em;box-sizing: border-box;margin-bottom: 0.5em;}#sk-container-id-74 div.sk-estimator:hover {background-color: #d4ebff;}#sk-container-id-74 div.sk-parallel-item::after {content: \"\";width: 100%;border-bottom: 1px solid gray;flex-grow: 1;}#sk-container-id-74 div.sk-label:hover label.sk-toggleable__label {background-color: #d4ebff;}#sk-container-id-74 div.sk-serial::before {content: \"\";position: absolute;border-left: 1px solid gray;box-sizing: border-box;top: 0;bottom: 0;left: 50%;z-index: 0;}#sk-container-id-74 div.sk-serial {display: flex;flex-direction: column;align-items: center;background-color: white;padding-right: 0.2em;padding-left: 0.2em;position: relative;}#sk-container-id-74 div.sk-item {position: relative;z-index: 1;}#sk-container-id-74 div.sk-parallel {display: flex;align-items: stretch;justify-content: center;background-color: white;position: relative;}#sk-container-id-74 div.sk-item::before, #sk-container-id-74 div.sk-parallel-item::before {content: \"\";position: absolute;border-left: 1px solid gray;box-sizing: border-box;top: 0;bottom: 0;left: 50%;z-index: -1;}#sk-container-id-74 div.sk-parallel-item {display: flex;flex-direction: column;z-index: 1;position: relative;background-color: white;}#sk-container-id-74 div.sk-parallel-item:first-child::after {align-self: flex-end;width: 50%;}#sk-container-id-74 div.sk-parallel-item:last-child::after {align-self: flex-start;width: 50%;}#sk-container-id-74 div.sk-parallel-item:only-child::after {width: 0;}#sk-container-id-74 div.sk-dashed-wrapped {border: 1px dashed gray;margin: 0 0.4em 0.5em 0.4em;box-sizing: border-box;padding-bottom: 0.4em;background-color: white;}#sk-container-id-74 div.sk-label label {font-family: monospace;font-weight: bold;display: inline-block;line-height: 1.2em;}#sk-container-id-74 div.sk-label-container {text-align: center;}#sk-container-id-74 div.sk-container {/* jupyter's `normalize.less` sets `[hidden] { display: none; }` but bootstrap.min.css set `[hidden] { display: none !important; }` so we also need the `!important` here to be able to override the default hidden behavior on the sphinx rendered scikit-learn.org. See: https://github.com/scikit-learn/scikit-learn/issues/21755 */display: inline-block !important;position: relative;}#sk-container-id-74 div.sk-text-repr-fallback {display: none;}</style><div id=\"sk-container-id-74\" class=\"sk-top-container\"><div class=\"sk-text-repr-fallback\"><pre>KNeighborsClassifier(n_neighbors=3)</pre><b>In a Jupyter environment, please rerun this cell to show the HTML representation or trust the notebook. <br />On GitHub, the HTML representation is unable to render, please try loading this page with nbviewer.org.</b></div><div class=\"sk-container\" hidden><div class=\"sk-item\"><div class=\"sk-estimator sk-toggleable\"><input class=\"sk-toggleable__control sk-hidden--visually\" id=\"sk-estimator-id-74\" type=\"checkbox\" checked><label for=\"sk-estimator-id-74\" class=\"sk-toggleable__label sk-toggleable__label-arrow\">KNeighborsClassifier</label><div class=\"sk-toggleable__content\"><pre>KNeighborsClassifier(n_neighbors=3)</pre></div></div></div></div></div>"
            ]
          },
          "metadata": {},
          "execution_count": 476
        }
      ]
    },
    {
      "cell_type": "code",
      "source": [
        "start_time = time.time()\n",
        "Y_predict_Sklearn = knn_Sklearn.predict(X_test)\n",
        "end_time = time.time()\n",
        "inference_time = end_time - start_time\n",
        "# Affichage du temps d'inférence\n",
        "print(\"Temps d'inférence :\", inference_time, \"secondes\")\n",
        "# Affichage precision\n",
        "Accuracy_Sklearn = accuracy_score(Y_predict_Sklearn, y_test)\n",
        "print('Accuracy Score:', Accuracy_Sklearn)"
      ],
      "metadata": {
        "colab": {
          "base_uri": "https://localhost:8080/"
        },
        "id": "KEBB8Q2huAmV",
        "outputId": "fa20c5a8-b307-4983-924a-c6b99b859e98"
      },
      "execution_count": null,
      "outputs": [
        {
          "output_type": "stream",
          "name": "stdout",
          "text": [
            "Temps d'inférence : 1.1809346675872803 secondes\n",
            "Accuracy Score: 0.959859649122807\n"
          ]
        }
      ]
    },
    {
      "cell_type": "code",
      "source": [
        "Accuracy_Sklearn = accuracy_score(Y_predict_Sklearn, y_test)\n",
        "print('Accuracy Score:', Accuracy_Sklearn)"
      ],
      "metadata": {
        "colab": {
          "base_uri": "https://localhost:8080/"
        },
        "id": "gVQSByuktyqU",
        "outputId": "901a82d8-d7f8-4a1d-b863-942ee3234705"
      },
      "execution_count": null,
      "outputs": [
        {
          "output_type": "stream",
          "name": "stdout",
          "text": [
            "Accuracy Score: 0.959859649122807\n"
          ]
        }
      ]
    },
    {
      "cell_type": "code",
      "source": [
        "errors = []\n",
        "for k in range(2,15):\n",
        "    knn = neighbors.KNeighborsClassifier(k)\n",
        "    errors.append(100*(1 - knn.fit(X_train, y_train).score(X_test, y_test)))\n",
        "plt.plot(range(2,15), errors, 'o-')\n",
        "plt.show()"
      ],
      "metadata": {
        "colab": {
          "base_uri": "https://localhost:8080/",
          "height": 430
        },
        "id": "Y8iujrlNscum",
        "outputId": "ec8b7975-5178-475e-d523-2c181fa63683"
      },
      "execution_count": null,
      "outputs": [
        {
          "output_type": "display_data",
          "data": {
            "text/plain": [
              "<Figure size 640x480 with 1 Axes>"
            ],
            "image/png": "[encoded data removed]"
          },
          "metadata": {}
        }
      ]
    },
    {
      "cell_type": "markdown",
      "source": [
        "Logistic Regression\n"
      ],
      "metadata": {
        "id": "u0is7MdhCMHI"
      }
    },
    {
      "cell_type": "code",
      "source": [
        "from sklearn.linear_model import LogisticRegression"
      ],
      "metadata": {
        "id": "p7n34ub6wEX6"
      },
      "execution_count": null,
      "outputs": []
    },
    {
      "cell_type": "code",
      "source": [
        "LG_Sklearn = LogisticRegression(random_state = 0)"
      ],
      "metadata": {
        "id": "hPkZc_GMwFkt"
      },
      "execution_count": null,
      "outputs": []
    },
    {
      "cell_type": "code",
      "source": [
        "start_time = time.time()\n",
        "LG_Sklearn.fit(X_train, y_train)"
      ],
      "metadata": {
        "colab": {
          "base_uri": "https://localhost:8080/",
          "height": 74
        },
        "id": "10ORPeXwwLw2",
        "outputId": "a1f97659-7ada-41ae-83d0-763823957e32"
      },
      "execution_count": null,
      "outputs": [
        {
          "output_type": "execute_result",
          "data": {
            "text/plain": [
              "LogisticRegression(random_state=0)"
            ],
            "text/html": [
              "<style>#sk-container-id-70 {color: black;background-color: white;}#sk-container-id-70 pre{padding: 0;}#sk-container-id-70 div.sk-toggleable {background-color: white;}#sk-container-id-70 label.sk-toggleable__label {cursor: pointer;display: block;width: 100%;margin-bottom: 0;padding: 0.3em;box-sizing: border-box;text-align: center;}#sk-container-id-70 label.sk-toggleable__label-arrow:before {content: \"▸\";float: left;margin-right: 0.25em;color: #696969;}#sk-container-id-70 label.sk-toggleable__label-arrow:hover:before {color: black;}#sk-container-id-70 div.sk-estimator:hover label.sk-toggleable__label-arrow:before {color: black;}#sk-container-id-70 div.sk-toggleable__content {max-height: 0;max-width: 0;overflow: hidden;text-align: left;background-color: #f0f8ff;}#sk-container-id-70 div.sk-toggleable__content pre {margin: 0.2em;color: black;border-radius: 0.25em;background-color: #f0f8ff;}#sk-container-id-70 input.sk-toggleable__control:checked~div.sk-toggleable__content {max-height: 200px;max-width: 100%;overflow: auto;}#sk-container-id-70 input.sk-toggleable__control:checked~label.sk-toggleable__label-arrow:before {content: \"▾\";}#sk-container-id-70 div.sk-estimator input.sk-toggleable__control:checked~label.sk-toggleable__label {background-color: #d4ebff;}#sk-container-id-70 div.sk-label input.sk-toggleable__control:checked~label.sk-toggleable__label {background-color: #d4ebff;}#sk-container-id-70 input.sk-hidden--visually {border: 0;clip: rect(1px 1px 1px 1px);clip: rect(1px, 1px, 1px, 1px);height: 1px;margin: -1px;overflow: hidden;padding: 0;position: absolute;width: 1px;}#sk-container-id-70 div.sk-estimator {font-family: monospace;background-color: #f0f8ff;border: 1px dotted black;border-radius: 0.25em;box-sizing: border-box;margin-bottom: 0.5em;}#sk-container-id-70 div.sk-estimator:hover {background-color: #d4ebff;}#sk-container-id-70 div.sk-parallel-item::after {content: \"\";width: 100%;border-bottom: 1px solid gray;flex-grow: 1;}#sk-container-id-70 div.sk-label:hover label.sk-toggleable__label {background-color: #d4ebff;}#sk-container-id-70 div.sk-serial::before {content: \"\";position: absolute;border-left: 1px solid gray;box-sizing: border-box;top: 0;bottom: 0;left: 50%;z-index: 0;}#sk-container-id-70 div.sk-serial {display: flex;flex-direction: column;align-items: center;background-color: white;padding-right: 0.2em;padding-left: 0.2em;position: relative;}#sk-container-id-70 div.sk-item {position: relative;z-index: 1;}#sk-container-id-70 div.sk-parallel {display: flex;align-items: stretch;justify-content: center;background-color: white;position: relative;}#sk-container-id-70 div.sk-item::before, #sk-container-id-70 div.sk-parallel-item::before {content: \"\";position: absolute;border-left: 1px solid gray;box-sizing: border-box;top: 0;bottom: 0;left: 50%;z-index: -1;}#sk-container-id-70 div.sk-parallel-item {display: flex;flex-direction: column;z-index: 1;position: relative;background-color: white;}#sk-container-id-70 div.sk-parallel-item:first-child::after {align-self: flex-end;width: 50%;}#sk-container-id-70 div.sk-parallel-item:last-child::after {align-self: flex-start;width: 50%;}#sk-container-id-70 div.sk-parallel-item:only-child::after {width: 0;}#sk-container-id-70 div.sk-dashed-wrapped {border: 1px dashed gray;margin: 0 0.4em 0.5em 0.4em;box-sizing: border-box;padding-bottom: 0.4em;background-color: white;}#sk-container-id-70 div.sk-label label {font-family: monospace;font-weight: bold;display: inline-block;line-height: 1.2em;}#sk-container-id-70 div.sk-label-container {text-align: center;}#sk-container-id-70 div.sk-container {/* jupyter's `normalize.less` sets `[hidden] { display: none; }` but bootstrap.min.css set `[hidden] { display: none !important; }` so we also need the `!important` here to be able to override the default hidden behavior on the sphinx rendered scikit-learn.org. See: https://github.com/scikit-learn/scikit-learn/issues/21755 */display: inline-block !important;position: relative;}#sk-container-id-70 div.sk-text-repr-fallback {display: none;}</style><div id=\"sk-container-id-70\" class=\"sk-top-container\"><div class=\"sk-text-repr-fallback\"><pre>LogisticRegression(random_state=0)</pre><b>In a Jupyter environment, please rerun this cell to show the HTML representation or trust the notebook. <br />On GitHub, the HTML representation is unable to render, please try loading this page with nbviewer.org.</b></div><div class=\"sk-container\" hidden><div class=\"sk-item\"><div class=\"sk-estimator sk-toggleable\"><input class=\"sk-toggleable__control sk-hidden--visually\" id=\"sk-estimator-id-70\" type=\"checkbox\" checked><label for=\"sk-estimator-id-70\" class=\"sk-toggleable__label sk-toggleable__label-arrow\">LogisticRegression</label><div class=\"sk-toggleable__content\"><pre>LogisticRegression(random_state=0)</pre></div></div></div></div></div>"
            ]
          },
          "metadata": {},
          "execution_count": 455
        }
      ]
    },
    {
      "cell_type": "code",
      "source": [
        "end_time = time.time()\n",
        "execution_time = end_time - start_time\n",
        "print(\"Temps d'exécution: {:.2f} secondes\".format(execution_time))"
      ],
      "metadata": {
        "colab": {
          "base_uri": "https://localhost:8080/"
        },
        "id": "cqv9NUy1CdzL",
        "outputId": "9f3faaf8-050b-4ddb-f667-aa8bd490281c"
      },
      "execution_count": null,
      "outputs": [
        {
          "output_type": "stream",
          "name": "stdout",
          "text": [
            "Temps d'exécution: 1.52 secondes\n"
          ]
        }
      ]
    },
    {
      "cell_type": "code",
      "source": [
        "start_time = time.time()\n",
        "Y_pred_Sklearn = LG_Sklearn.predict(X_test)\n",
        "end_time = time.time()\n",
        "inference_time = end_time - start_time\n",
        "# Affichage du temps d'inférence\n",
        "print(\"Temps d'inférence :\", inference_time, \"secondes\")\n",
        "# Affichage precision\n",
        "Accuracy_Sklearn = accuracy_score(Y_pred_Sklearn, y_test)\n",
        "print('Accuracy Score:', Accuracy_Sklearn)"
      ],
      "metadata": {
        "colab": {
          "base_uri": "https://localhost:8080/"
        },
        "id": "XOYos7XcwUjG",
        "outputId": "785f9327-3557-47e7-d6b3-93721bd7a7cc"
      },
      "execution_count": null,
      "outputs": [
        {
          "output_type": "stream",
          "name": "stdout",
          "text": [
            "Temps d'inférence : 0.0038366317749023438 secondes\n",
            "Accuracy Score: 0.9369824561403509\n"
          ]
        }
      ]
    },
    {
      "cell_type": "code",
      "source": [
        "Accuracy_Sklearn = accuracy_score(Y_pred_Sklearn, y_test)\n",
        "print('Accuracy Score:', Accuracy_Sklearn)"
      ],
      "metadata": {
        "colab": {
          "base_uri": "https://localhost:8080/"
        },
        "id": "FFa2phwOwX6O",
        "outputId": "8e97573a-e6ae-4264-c394-bd325e3c6790"
      },
      "execution_count": null,
      "outputs": [
        {
          "output_type": "stream",
          "name": "stdout",
          "text": [
            "Accuracy Score: 0.9369824561403509\n"
          ]
        }
      ]
    },
    {
      "cell_type": "code",
      "source": [
        "from sklearn.metrics import accuracy_score\n",
        "\n",
        "accuracy_score(y_test, Y_pred_Sklearn)"
      ],
      "metadata": {
        "colab": {
          "base_uri": "https://localhost:8080/"
        },
        "id": "2wHbDR5brHkn",
        "outputId": "c2f93fee-0b61-4f6a-b726-47291e863ac2"
      },
      "execution_count": null,
      "outputs": [
        {
          "output_type": "execute_result",
          "data": {
            "text/plain": [
              "0.9369824561403509"
            ]
          },
          "metadata": {},
          "execution_count": 288
        }
      ]
    },
    {
      "cell_type": "markdown",
      "source": [
        "RANDOM FOREST\n"
      ],
      "metadata": {
        "id": "e1rM2Q8q_ZLT"
      }
    },
    {
      "cell_type": "code",
      "source": [
        "from sklearn.ensemble import RandomForestClassifier"
      ],
      "metadata": {
        "id": "XumW2XPdxSP8"
      },
      "execution_count": null,
      "outputs": []
    },
    {
      "cell_type": "code",
      "source": [
        "rf = RandomForestClassifier(max_depth = 5,n_estimators = 10 , random_state = 0)"
      ],
      "metadata": {
        "id": "aYuSoo6AxhpL"
      },
      "execution_count": null,
      "outputs": []
    },
    {
      "cell_type": "code",
      "source": [
        "start_time = time.time()\n",
        "rf.fit(X_train, y_train)"
      ],
      "metadata": {
        "colab": {
          "base_uri": "https://localhost:8080/",
          "height": 74
        },
        "id": "Gwlk0Um_xip-",
        "outputId": "d0e4b93e-6e6c-4448-d01d-2182581d8416"
      },
      "execution_count": null,
      "outputs": [
        {
          "output_type": "execute_result",
          "data": {
            "text/plain": [
              "RandomForestClassifier(max_depth=5, n_estimators=10, random_state=0)"
            ],
            "text/html": [
              "<style>#sk-container-id-67 {color: black;background-color: white;}#sk-container-id-67 pre{padding: 0;}#sk-container-id-67 div.sk-toggleable {background-color: white;}#sk-container-id-67 label.sk-toggleable__label {cursor: pointer;display: block;width: 100%;margin-bottom: 0;padding: 0.3em;box-sizing: border-box;text-align: center;}#sk-container-id-67 label.sk-toggleable__label-arrow:before {content: \"▸\";float: left;margin-right: 0.25em;color: #696969;}#sk-container-id-67 label.sk-toggleable__label-arrow:hover:before {color: black;}#sk-container-id-67 div.sk-estimator:hover label.sk-toggleable__label-arrow:before {color: black;}#sk-container-id-67 div.sk-toggleable__content {max-height: 0;max-width: 0;overflow: hidden;text-align: left;background-color: #f0f8ff;}#sk-container-id-67 div.sk-toggleable__content pre {margin: 0.2em;color: black;border-radius: 0.25em;background-color: #f0f8ff;}#sk-container-id-67 input.sk-toggleable__control:checked~div.sk-toggleable__content {max-height: 200px;max-width: 100%;overflow: auto;}#sk-container-id-67 input.sk-toggleable__control:checked~label.sk-toggleable__label-arrow:before {content: \"▾\";}#sk-container-id-67 div.sk-estimator input.sk-toggleable__control:checked~label.sk-toggleable__label {background-color: #d4ebff;}#sk-container-id-67 div.sk-label input.sk-toggleable__control:checked~label.sk-toggleable__label {background-color: #d4ebff;}#sk-container-id-67 input.sk-hidden--visually {border: 0;clip: rect(1px 1px 1px 1px);clip: rect(1px, 1px, 1px, 1px);height: 1px;margin: -1px;overflow: hidden;padding: 0;position: absolute;width: 1px;}#sk-container-id-67 div.sk-estimator {font-family: monospace;background-color: #f0f8ff;border: 1px dotted black;border-radius: 0.25em;box-sizing: border-box;margin-bottom: 0.5em;}#sk-container-id-67 div.sk-estimator:hover {background-color: #d4ebff;}#sk-container-id-67 div.sk-parallel-item::after {content: \"\";width: 100%;border-bottom: 1px solid gray;flex-grow: 1;}#sk-container-id-67 div.sk-label:hover label.sk-toggleable__label {background-color: #d4ebff;}#sk-container-id-67 div.sk-serial::before {content: \"\";position: absolute;border-left: 1px solid gray;box-sizing: border-box;top: 0;bottom: 0;left: 50%;z-index: 0;}#sk-container-id-67 div.sk-serial {display: flex;flex-direction: column;align-items: center;background-color: white;padding-right: 0.2em;padding-left: 0.2em;position: relative;}#sk-container-id-67 div.sk-item {position: relative;z-index: 1;}#sk-container-id-67 div.sk-parallel {display: flex;align-items: stretch;justify-content: center;background-color: white;position: relative;}#sk-container-id-67 div.sk-item::before, #sk-container-id-67 div.sk-parallel-item::before {content: \"\";position: absolute;border-left: 1px solid gray;box-sizing: border-box;top: 0;bottom: 0;left: 50%;z-index: -1;}#sk-container-id-67 div.sk-parallel-item {display: flex;flex-direction: column;z-index: 1;position: relative;background-color: white;}#sk-container-id-67 div.sk-parallel-item:first-child::after {align-self: flex-end;width: 50%;}#sk-container-id-67 div.sk-parallel-item:last-child::after {align-self: flex-start;width: 50%;}#sk-container-id-67 div.sk-parallel-item:only-child::after {width: 0;}#sk-container-id-67 div.sk-dashed-wrapped {border: 1px dashed gray;margin: 0 0.4em 0.5em 0.4em;box-sizing: border-box;padding-bottom: 0.4em;background-color: white;}#sk-container-id-67 div.sk-label label {font-family: monospace;font-weight: bold;display: inline-block;line-height: 1.2em;}#sk-container-id-67 div.sk-label-container {text-align: center;}#sk-container-id-67 div.sk-container {/* jupyter's `normalize.less` sets `[hidden] { display: none; }` but bootstrap.min.css set `[hidden] { display: none !important; }` so we also need the `!important` here to be able to override the default hidden behavior on the sphinx rendered scikit-learn.org. See: https://github.com/scikit-learn/scikit-learn/issues/21755 */display: inline-block !important;position: relative;}#sk-container-id-67 div.sk-text-repr-fallback {display: none;}</style><div id=\"sk-container-id-67\" class=\"sk-top-container\"><div class=\"sk-text-repr-fallback\"><pre>RandomForestClassifier(max_depth=5, n_estimators=10, random_state=0)</pre><b>In a Jupyter environment, please rerun this cell to show the HTML representation or trust the notebook. <br />On GitHub, the HTML representation is unable to render, please try loading this page with nbviewer.org.</b></div><div class=\"sk-container\" hidden><div class=\"sk-item\"><div class=\"sk-estimator sk-toggleable\"><input class=\"sk-toggleable__control sk-hidden--visually\" id=\"sk-estimator-id-67\" type=\"checkbox\" checked><label for=\"sk-estimator-id-67\" class=\"sk-toggleable__label sk-toggleable__label-arrow\">RandomForestClassifier</label><div class=\"sk-toggleable__content\"><pre>RandomForestClassifier(max_depth=5, n_estimators=10, random_state=0)</pre></div></div></div></div></div>"
            ]
          },
          "metadata": {},
          "execution_count": 416
        }
      ]
    },
    {
      "cell_type": "code",
      "source": [
        "end_time = time.time()\n",
        "execution_time = end_time - start_time\n",
        "print(\"Temps d'exécution: {:.2f} secondes\".format(execution_time))"
      ],
      "metadata": {
        "colab": {
          "base_uri": "https://localhost:8080/"
        },
        "id": "1BosNkDI6CFO",
        "outputId": "eac64a1a-24dc-4d5f-bf60-db99db304db5"
      },
      "execution_count": null,
      "outputs": [
        {
          "output_type": "stream",
          "name": "stdout",
          "text": [
            "Temps d'exécution: 4.40 secondes\n"
          ]
        }
      ]
    },
    {
      "cell_type": "code",
      "source": [
        "start_time = time.time()\n",
        "y_pred = rf.predict(X_test)\n",
        "end_time = time.time()\n",
        "inference_time = end_time - start_time\n",
        "# Affichage du temps d'inférence\n",
        "print(\"Temps d'inférence :\", inference_time, \"secondes\")\n",
        "# Affichage precision\n",
        "Accuracy = accuracy_score(y_pred, y_test)\n",
        "print('Accuracy Score:', Accuracy)"
      ],
      "metadata": {
        "id": "3ZeodzVRxmjQ",
        "colab": {
          "base_uri": "https://localhost:8080/"
        },
        "outputId": "5662d124-ee36-4640-9ae4-b9af6501a4f2"
      },
      "execution_count": null,
      "outputs": [
        {
          "output_type": "stream",
          "name": "stdout",
          "text": [
            "Temps d'inférence : 0.02237391471862793 secondes\n",
            "Accuracy Score: 0.9435789473684211\n"
          ]
        }
      ]
    },
    {
      "cell_type": "code",
      "source": [
        "from sklearn.metrics import confusion_matrix\n",
        "confusion_matrix_ = confusion_matrix(y_pred, y_test)\n",
        "\n",
        "#[row, column]\n",
        "TP = confusion_matrix_[1, 1]\n",
        "TN = confusion_matrix_[0, 0]\n",
        "FP = confusion_matrix_[0, 1]\n",
        "FN = confusion_matrix_[1, 0]\n",
        "\n",
        "group_names = ['TN','FP','FN','TP']\n",
        "\n",
        "group_counts = [\"{0:0.0f}\".format(value) for value in confusion_matrix_.flatten()]\n",
        "\n",
        "group_percentages = [\"{0:.2%}\".format(value) for value in confusion_matrix_.flatten()/np.sum(confusion_matrix_)]\n",
        "\n",
        "labels = [f\"{v1}\\n{v2}\\n{v3}\" for v1, v2, v3 in zip(group_names,group_counts,group_percentages)]\n",
        "\n",
        "labels = np.asarray(labels).reshape(2,2)\n",
        "\n",
        "sns.heatmap(confusion_matrix_, annot=labels, fmt='', cmap='Greens')"
      ],
      "metadata": {
        "colab": {
          "base_uri": "https://localhost:8080/",
          "height": 447
        },
        "id": "RLBEPQ8zyKqn",
        "outputId": "1211a0c3-1947-4fd6-ff82-f97ae3efec43"
      },
      "execution_count": null,
      "outputs": [
        {
          "output_type": "execute_result",
          "data": {
            "text/plain": [
              "<Axes: >"
            ]
          },
          "metadata": {},
          "execution_count": 419
        },
        {
          "output_type": "display_data",
          "data": {
            "text/plain": [
              "<Figure size 640x480 with 2 Axes>"
            ],
            "image/png": "[encoded data removed]"
          },
          "metadata": {}
        }
      ]
    },
    {
      "cell_type": "code",
      "source": [
        "from sklearn.metrics import accuracy_score, precision_score, recall_score, f1_score, mean_absolute_error, roc_auc_score"
      ],
      "metadata": {
        "id": "-Cr2OYKlxvjR"
      },
      "execution_count": null,
      "outputs": []
    },
    {
      "cell_type": "code",
      "source": [
        "# Accuracy Score\n",
        "Accuracy = accuracy_score(y_pred, y_test)\n",
        "print('Accuracy Score:', Accuracy)\n",
        "\n",
        "# Precision Score\n",
        "Precision = precision_score(y_pred, y_test)\n",
        "print('Precision Score:', Precision)\n",
        "\n",
        "# True positive Rate (TPR) or Sensitivity or Recall\n",
        "TPR = recall_score(y_pred, y_test)\n",
        "print('True positive Rate:', TPR)\n",
        "\n",
        "# False positive Rate (FPR)\n",
        "FPR = FP / float(TN + FP)\n",
        "print('False positive Rate', FPR)\n",
        "\n",
        "# F1 Score or F-Measure or F-Score\n",
        "F1 = f1_score(y_pred, y_test)\n",
        "print('F1 Score:', F1)\n",
        "\n",
        "# Specificity\n",
        "Specificity = TN / (TN + FP)\n",
        "print('Specificity:', Specificity )\n",
        "\n",
        "# Mean Absolute Error\n",
        "Error = mean_absolute_error(y_pred, y_test)\n",
        "print('Mean Absolute Error:', Error)\n",
        "\n",
        "# ROC Area\n",
        "Roc = roc_auc_score(y_pred, y_test)\n",
        "print('ROC Area:', Roc)"
      ],
      "metadata": {
        "colab": {
          "base_uri": "https://localhost:8080/"
        },
        "id": "E1qIxL1ByAcV",
        "outputId": "0ee3bc9f-ada2-483d-cd17-b66714d900ab"
      },
      "execution_count": null,
      "outputs": [
        {
          "output_type": "stream",
          "name": "stdout",
          "text": [
            "Accuracy Score: 0.9435789473684211\n",
            "Precision Score: 0.9461624026696329\n",
            "True positive Rate: 0.9637434851574892\n",
            "False positive Rate 0.08923303834808259\n",
            "F1 Score: 0.9548720251459362\n",
            "Specificity: 0.9107669616519174\n",
            "Mean Absolute Error: 0.05642105263157895\n",
            "ROC Area: 0.9372552234047034\n"
          ]
        }
      ]
    },
    {
      "cell_type": "markdown",
      "source": [
        "NAIVE BAYES\n"
      ],
      "metadata": {
        "id": "FhX-Jw_6Jyqp"
      }
    },
    {
      "cell_type": "code",
      "source": [
        "from sklearn.naive_bayes import GaussianNB"
      ],
      "metadata": {
        "id": "iO4Erqcd0Uci"
      },
      "execution_count": null,
      "outputs": []
    },
    {
      "cell_type": "code",
      "source": [
        "NB_Sklearn = GaussianNB()"
      ],
      "metadata": {
        "id": "u5FWNK3i0ycq"
      },
      "execution_count": null,
      "outputs": []
    },
    {
      "cell_type": "code",
      "source": [
        "start_time = time.time()\n",
        "NB_Sklearn.fit(X_train, y_train)"
      ],
      "metadata": {
        "colab": {
          "base_uri": "https://localhost:8080/",
          "height": 74
        },
        "id": "GJ6zfDkOx789",
        "outputId": "e1e3ddfb-b3a2-4de4-af25-e62ee985b880"
      },
      "execution_count": null,
      "outputs": [
        {
          "output_type": "execute_result",
          "data": {
            "text/plain": [
              "GaussianNB()"
            ],
            "text/html": [
              "<style>#sk-container-id-72 {color: black;background-color: white;}#sk-container-id-72 pre{padding: 0;}#sk-container-id-72 div.sk-toggleable {background-color: white;}#sk-container-id-72 label.sk-toggleable__label {cursor: pointer;display: block;width: 100%;margin-bottom: 0;padding: 0.3em;box-sizing: border-box;text-align: center;}#sk-container-id-72 label.sk-toggleable__label-arrow:before {content: \"▸\";float: left;margin-right: 0.25em;color: #696969;}#sk-container-id-72 label.sk-toggleable__label-arrow:hover:before {color: black;}#sk-container-id-72 div.sk-estimator:hover label.sk-toggleable__label-arrow:before {color: black;}#sk-container-id-72 div.sk-toggleable__content {max-height: 0;max-width: 0;overflow: hidden;text-align: left;background-color: #f0f8ff;}#sk-container-id-72 div.sk-toggleable__content pre {margin: 0.2em;color: black;border-radius: 0.25em;background-color: #f0f8ff;}#sk-container-id-72 input.sk-toggleable__control:checked~div.sk-toggleable__content {max-height: 200px;max-width: 100%;overflow: auto;}#sk-container-id-72 input.sk-toggleable__control:checked~label.sk-toggleable__label-arrow:before {content: \"▾\";}#sk-container-id-72 div.sk-estimator input.sk-toggleable__control:checked~label.sk-toggleable__label {background-color: #d4ebff;}#sk-container-id-72 div.sk-label input.sk-toggleable__control:checked~label.sk-toggleable__label {background-color: #d4ebff;}#sk-container-id-72 input.sk-hidden--visually {border: 0;clip: rect(1px 1px 1px 1px);clip: rect(1px, 1px, 1px, 1px);height: 1px;margin: -1px;overflow: hidden;padding: 0;position: absolute;width: 1px;}#sk-container-id-72 div.sk-estimator {font-family: monospace;background-color: #f0f8ff;border: 1px dotted black;border-radius: 0.25em;box-sizing: border-box;margin-bottom: 0.5em;}#sk-container-id-72 div.sk-estimator:hover {background-color: #d4ebff;}#sk-container-id-72 div.sk-parallel-item::after {content: \"\";width: 100%;border-bottom: 1px solid gray;flex-grow: 1;}#sk-container-id-72 div.sk-label:hover label.sk-toggleable__label {background-color: #d4ebff;}#sk-container-id-72 div.sk-serial::before {content: \"\";position: absolute;border-left: 1px solid gray;box-sizing: border-box;top: 0;bottom: 0;left: 50%;z-index: 0;}#sk-container-id-72 div.sk-serial {display: flex;flex-direction: column;align-items: center;background-color: white;padding-right: 0.2em;padding-left: 0.2em;position: relative;}#sk-container-id-72 div.sk-item {position: relative;z-index: 1;}#sk-container-id-72 div.sk-parallel {display: flex;align-items: stretch;justify-content: center;background-color: white;position: relative;}#sk-container-id-72 div.sk-item::before, #sk-container-id-72 div.sk-parallel-item::before {content: \"\";position: absolute;border-left: 1px solid gray;box-sizing: border-box;top: 0;bottom: 0;left: 50%;z-index: -1;}#sk-container-id-72 div.sk-parallel-item {display: flex;flex-direction: column;z-index: 1;position: relative;background-color: white;}#sk-container-id-72 div.sk-parallel-item:first-child::after {align-self: flex-end;width: 50%;}#sk-container-id-72 div.sk-parallel-item:last-child::after {align-self: flex-start;width: 50%;}#sk-container-id-72 div.sk-parallel-item:only-child::after {width: 0;}#sk-container-id-72 div.sk-dashed-wrapped {border: 1px dashed gray;margin: 0 0.4em 0.5em 0.4em;box-sizing: border-box;padding-bottom: 0.4em;background-color: white;}#sk-container-id-72 div.sk-label label {font-family: monospace;font-weight: bold;display: inline-block;line-height: 1.2em;}#sk-container-id-72 div.sk-label-container {text-align: center;}#sk-container-id-72 div.sk-container {/* jupyter's `normalize.less` sets `[hidden] { display: none; }` but bootstrap.min.css set `[hidden] { display: none !important; }` so we also need the `!important` here to be able to override the default hidden behavior on the sphinx rendered scikit-learn.org. See: https://github.com/scikit-learn/scikit-learn/issues/21755 */display: inline-block !important;position: relative;}#sk-container-id-72 div.sk-text-repr-fallback {display: none;}</style><div id=\"sk-container-id-72\" class=\"sk-top-container\"><div class=\"sk-text-repr-fallback\"><pre>GaussianNB()</pre><b>In a Jupyter environment, please rerun this cell to show the HTML representation or trust the notebook. <br />On GitHub, the HTML representation is unable to render, please try loading this page with nbviewer.org.</b></div><div class=\"sk-container\" hidden><div class=\"sk-item\"><div class=\"sk-estimator sk-toggleable\"><input class=\"sk-toggleable__control sk-hidden--visually\" id=\"sk-estimator-id-72\" type=\"checkbox\" checked><label for=\"sk-estimator-id-72\" class=\"sk-toggleable__label sk-toggleable__label-arrow\">GaussianNB</label><div class=\"sk-toggleable__content\"><pre>GaussianNB()</pre></div></div></div></div></div>"
            ]
          },
          "metadata": {},
          "execution_count": 471
        }
      ]
    },
    {
      "cell_type": "code",
      "source": [
        "end_time = time.time()\n",
        "execution_time = end_time - start_time\n",
        "print(\"Temps d'exécution: {:.2f} secondes\".format(execution_time))"
      ],
      "metadata": {
        "colab": {
          "base_uri": "https://localhost:8080/"
        },
        "id": "ZMi7pan7EF18",
        "outputId": "9fcd340c-3757-4a0c-9e97-42b0fc7502c7"
      },
      "execution_count": null,
      "outputs": [
        {
          "output_type": "stream",
          "name": "stdout",
          "text": [
            "Temps d'exécution: 1.33 secondes\n"
          ]
        }
      ]
    },
    {
      "cell_type": "code",
      "source": [
        "start_time = time.time()\n",
        "Y_pred_Sklearn = NB_Sklearn.predict(X_test)\n",
        "end_time = time.time()\n",
        "inference_time = end_time - start_time\n",
        "# Affichage du temps d'inférence\n",
        "print(\"Temps d'inférence :\", inference_time, \"secondes\")\n",
        "# Affichage precision\n",
        "Accuracy_Sklearn = accuracy_score(Y_pred_Sklearn, y_test)\n",
        "print('Accuracy Score:', Accuracy_Sklearn)\n"
      ],
      "metadata": {
        "colab": {
          "base_uri": "https://localhost:8080/"
        },
        "id": "_Vy7IbgS1RFI",
        "outputId": "a0f8c3be-9f24-4467-ca21-52a483617cce"
      },
      "execution_count": null,
      "outputs": [
        {
          "output_type": "stream",
          "name": "stdout",
          "text": [
            "Temps d'inférence : 0.006235361099243164 secondes\n",
            "Accuracy Score: 0.9204210526315789\n"
          ]
        }
      ]
    },
    {
      "cell_type": "code",
      "source": [
        "Accuracy_Sklearn = accuracy_score(Y_pred_Sklearn, y_test)\n",
        "print('Accuracy Score:', Accuracy_Sklearn)"
      ],
      "metadata": {
        "colab": {
          "base_uri": "https://localhost:8080/"
        },
        "id": "Tmt4s2iW1X90",
        "outputId": "46752ff3-acb4-4870-ff1b-1b21c4daa15a"
      },
      "execution_count": null,
      "outputs": [
        {
          "output_type": "stream",
          "name": "stdout",
          "text": [
            "Accuracy Score: 0.9204210526315789\n"
          ]
        }
      ]
    },
    {
      "cell_type": "markdown",
      "source": [
        "DECISION TREE"
      ],
      "metadata": {
        "id": "KRtvMpjn_j-e"
      }
    },
    {
      "cell_type": "code",
      "source": [
        "from sklearn.tree import plot_tree\n",
        "from sklearn.tree import DecisionTreeClassifier"
      ],
      "metadata": {
        "id": "xzS0khONByU0"
      },
      "execution_count": null,
      "outputs": []
    },
    {
      "cell_type": "code",
      "source": [
        "\n",
        "dt_sklearn = DecisionTreeClassifier(max_depth = 5,criterion ='entropy' , random_state = 0)"
      ],
      "metadata": {
        "id": "YkhwgExq1c_U"
      },
      "execution_count": null,
      "outputs": []
    },
    {
      "cell_type": "code",
      "source": [
        "start_time = time.time()\n",
        "dt_sklearn.fit(X_train, y_train)\n",
        "end_time = time.time()\n",
        "execution_time = end_time - start_time\n",
        "\n",
        "print(\"Temps d'exécution : {:.2f} secondes\".format(execution_time))"
      ],
      "metadata": {
        "colab": {
          "base_uri": "https://localhost:8080/"
        },
        "id": "fYgLvzFKB3mw",
        "outputId": "73065e49-f99a-4650-b480-a55bd2aa9e77"
      },
      "execution_count": null,
      "outputs": [
        {
          "output_type": "stream",
          "name": "stdout",
          "text": [
            "Temps d'exécution : 0.12 secondes\n"
          ]
        }
      ]
    },
    {
      "cell_type": "code",
      "source": [
        "plt.figure(figsize = (16, 9))\n",
        "plot_tree(dt_sklearn, filled=True)\n",
        "plt.show()"
      ],
      "metadata": {
        "colab": {
          "base_uri": "https://localhost:8080/",
          "height": 547
        },
        "id": "Oz0y-fTaB8CR",
        "outputId": "7e45505e-6612-4c11-f0c7-c0d7220d3ed0"
      },
      "execution_count": null,
      "outputs": [
        {
          "output_type": "display_data",
          "data": {
            "text/plain": [
              "<Figure size 1600x900 with 1 Axes>"
            ],
            "image/png": "[encoded data removed]"
          },
          "metadata": {}
        }
      ]
    },
    {
      "cell_type": "code",
      "source": [
        "start_time = time.time()\n",
        "dt_sklearn_pred_test = dt_sklearn.predict(X_test)\n",
        "dt_sklearn_pred_train = dt_sklearn.predict(X_train)\n",
        "dt_sklearn_pred_test = dt_sklearn.predict(X_test)\n",
        "dt_sklearn_pred_train = dt_sklearn.predict(X_train)\n",
        "end_time = time.time()\n",
        "inference_time = end_time - start_time\n",
        "# Affichage du temps d'inférence\n",
        "print(\"Temps d'inférence :\", inference_time, \"secondes\")\n",
        "# Affichage precision\n",
        "Accuracy_train = accuracy_score(dt_sklearn_pred_train, y_train)\n",
        "Accuracy_test = accuracy_score(dt_sklearn_pred_test, y_test)\n",
        "print(f\"Training Accuracy is {Accuracy_train}\")\n",
        "print(f\"Test Accuracy is {Accuracy_test}\")"
      ],
      "metadata": {
        "colab": {
          "base_uri": "https://localhost:8080/"
        },
        "id": "aqRNRls6CTGw",
        "outputId": "5526a279-dbaf-4d53-f56a-7f9b466049e6"
      },
      "execution_count": null,
      "outputs": [
        {
          "output_type": "stream",
          "name": "stdout",
          "text": [
            "Temps d'inférence : 0.02283501625061035 secondes\n",
            "Training Accuracy is 0.9558214611551688\n",
            "Test Accuracy is 0.9568421052631579\n"
          ]
        }
      ]
    },
    {
      "cell_type": "markdown",
      "source": [
        "SVM"
      ],
      "metadata": {
        "id": "Qa1hh7pmDg-o"
      }
    },
    {
      "cell_type": "code",
      "source": [
        "from sklearn.svm import SVC"
      ],
      "metadata": {
        "id": "JZPH6tSDCWaa"
      },
      "execution_count": null,
      "outputs": []
    },
    {
      "cell_type": "code",
      "source": [
        "clf = SVC(\n",
        "          C=1.0,                          # The regularization parameter\n",
        "          kernel='linear',                # The kernel type used\n",
        "       #  degree=3,                       # Degree of polynomial function\n",
        "          gamma='scale',                  # The kernel coefficient\n",
        "          coef0=0.0,                      # If kernel = 'poly'/'sigmoid'\n",
        "          shrinking=True,                 # To use shrinking heuristic\n",
        "          probability=False,              # Enable probability estimates\n",
        "          tol=0.001,                      # Stopping crierion\n",
        "          cache_size=200,                 # Size of kernel cache\n",
        "          class_weight=None,              # The weight of each class\n",
        "          verbose=False,                  # Enable verbose output\n",
        "          max_iter=- 1,                   # Hard limit on iterations\n",
        "          decision_function_shape='ovr',  # One-vs-rest or one-vs-one\n",
        "          break_ties=False,               # How to handle breaking ties\n",
        "          random_state=None               # Random state of the model\n",
        ")"
      ],
      "metadata": {
        "id": "XQ21B-0QDatO"
      },
      "execution_count": null,
      "outputs": []
    },
    {
      "cell_type": "code",
      "source": [
        "start_time = time.time()\n",
        "clf.fit(X_train, y_train)"
      ],
      "metadata": {
        "colab": {
          "base_uri": "https://localhost:8080/",
          "height": 74
        },
        "id": "E8z2Rh18Dydl",
        "outputId": "6ad3c6c5-ace9-440b-d313-a4200de393cc"
      },
      "execution_count": null,
      "outputs": [
        {
          "output_type": "execute_result",
          "data": {
            "text/plain": [
              "SVC(kernel='linear')"
            ],
            "text/html": [
              "<style>#sk-container-id-69 {color: black;background-color: white;}#sk-container-id-69 pre{padding: 0;}#sk-container-id-69 div.sk-toggleable {background-color: white;}#sk-container-id-69 label.sk-toggleable__label {cursor: pointer;display: block;width: 100%;margin-bottom: 0;padding: 0.3em;box-sizing: border-box;text-align: center;}#sk-container-id-69 label.sk-toggleable__label-arrow:before {content: \"▸\";float: left;margin-right: 0.25em;color: #696969;}#sk-container-id-69 label.sk-toggleable__label-arrow:hover:before {color: black;}#sk-container-id-69 div.sk-estimator:hover label.sk-toggleable__label-arrow:before {color: black;}#sk-container-id-69 div.sk-toggleable__content {max-height: 0;max-width: 0;overflow: hidden;text-align: left;background-color: #f0f8ff;}#sk-container-id-69 div.sk-toggleable__content pre {margin: 0.2em;color: black;border-radius: 0.25em;background-color: #f0f8ff;}#sk-container-id-69 input.sk-toggleable__control:checked~div.sk-toggleable__content {max-height: 200px;max-width: 100%;overflow: auto;}#sk-container-id-69 input.sk-toggleable__control:checked~label.sk-toggleable__label-arrow:before {content: \"▾\";}#sk-container-id-69 div.sk-estimator input.sk-toggleable__control:checked~label.sk-toggleable__label {background-color: #d4ebff;}#sk-container-id-69 div.sk-label input.sk-toggleable__control:checked~label.sk-toggleable__label {background-color: #d4ebff;}#sk-container-id-69 input.sk-hidden--visually {border: 0;clip: rect(1px 1px 1px 1px);clip: rect(1px, 1px, 1px, 1px);height: 1px;margin: -1px;overflow: hidden;padding: 0;position: absolute;width: 1px;}#sk-container-id-69 div.sk-estimator {font-family: monospace;background-color: #f0f8ff;border: 1px dotted black;border-radius: 0.25em;box-sizing: border-box;margin-bottom: 0.5em;}#sk-container-id-69 div.sk-estimator:hover {background-color: #d4ebff;}#sk-container-id-69 div.sk-parallel-item::after {content: \"\";width: 100%;border-bottom: 1px solid gray;flex-grow: 1;}#sk-container-id-69 div.sk-label:hover label.sk-toggleable__label {background-color: #d4ebff;}#sk-container-id-69 div.sk-serial::before {content: \"\";position: absolute;border-left: 1px solid gray;box-sizing: border-box;top: 0;bottom: 0;left: 50%;z-index: 0;}#sk-container-id-69 div.sk-serial {display: flex;flex-direction: column;align-items: center;background-color: white;padding-right: 0.2em;padding-left: 0.2em;position: relative;}#sk-container-id-69 div.sk-item {position: relative;z-index: 1;}#sk-container-id-69 div.sk-parallel {display: flex;align-items: stretch;justify-content: center;background-color: white;position: relative;}#sk-container-id-69 div.sk-item::before, #sk-container-id-69 div.sk-parallel-item::before {content: \"\";position: absolute;border-left: 1px solid gray;box-sizing: border-box;top: 0;bottom: 0;left: 50%;z-index: -1;}#sk-container-id-69 div.sk-parallel-item {display: flex;flex-direction: column;z-index: 1;position: relative;background-color: white;}#sk-container-id-69 div.sk-parallel-item:first-child::after {align-self: flex-end;width: 50%;}#sk-container-id-69 div.sk-parallel-item:last-child::after {align-self: flex-start;width: 50%;}#sk-container-id-69 div.sk-parallel-item:only-child::after {width: 0;}#sk-container-id-69 div.sk-dashed-wrapped {border: 1px dashed gray;margin: 0 0.4em 0.5em 0.4em;box-sizing: border-box;padding-bottom: 0.4em;background-color: white;}#sk-container-id-69 div.sk-label label {font-family: monospace;font-weight: bold;display: inline-block;line-height: 1.2em;}#sk-container-id-69 div.sk-label-container {text-align: center;}#sk-container-id-69 div.sk-container {/* jupyter's `normalize.less` sets `[hidden] { display: none; }` but bootstrap.min.css set `[hidden] { display: none !important; }` so we also need the `!important` here to be able to override the default hidden behavior on the sphinx rendered scikit-learn.org. See: https://github.com/scikit-learn/scikit-learn/issues/21755 */display: inline-block !important;position: relative;}#sk-container-id-69 div.sk-text-repr-fallback {display: none;}</style><div id=\"sk-container-id-69\" class=\"sk-top-container\"><div class=\"sk-text-repr-fallback\"><pre>SVC(kernel=&#x27;linear&#x27;)</pre><b>In a Jupyter environment, please rerun this cell to show the HTML representation or trust the notebook. <br />On GitHub, the HTML representation is unable to render, please try loading this page with nbviewer.org.</b></div><div class=\"sk-container\" hidden><div class=\"sk-item\"><div class=\"sk-estimator sk-toggleable\"><input class=\"sk-toggleable__control sk-hidden--visually\" id=\"sk-estimator-id-69\" type=\"checkbox\" checked><label for=\"sk-estimator-id-69\" class=\"sk-toggleable__label sk-toggleable__label-arrow\">SVC</label><div class=\"sk-toggleable__content\"><pre>SVC(kernel=&#x27;linear&#x27;)</pre></div></div></div></div></div>"
            ]
          },
          "metadata": {},
          "execution_count": 452
        }
      ]
    },
    {
      "cell_type": "code",
      "source": [
        "end_time = time.time()\n",
        "execution_time = end_time - start_time\n",
        "print(\"Temps d'exécution: {:.2f} secondes\".format(execution_time))"
      ],
      "metadata": {
        "colab": {
          "base_uri": "https://localhost:8080/"
        },
        "id": "m4wx7FwfEWTU",
        "outputId": "d18d23bb-ab49-4bb3-e649-2bd724d4c9f7"
      },
      "execution_count": null,
      "outputs": [
        {
          "output_type": "stream",
          "name": "stdout",
          "text": [
            "Temps d'exécution: 552.39 secondes\n"
          ]
        }
      ]
    },
    {
      "cell_type": "code",
      "source": [
        "start_time = time.time()\n",
        "y_pred = clf.predict(X_test)\n",
        "end_time = time.time()\n",
        "inference_time = end_time - start_time\n",
        "# Affichage du temps d'inférence\n",
        "print(\"Temps d'inférence :\", inference_time, \"secondes\")\n",
        "# Affichage precision\n",
        "Accuracy = accuracy_score(y_pred, y_test)\n",
        "print('Accuracy Score:', Accuracy)"
      ],
      "metadata": {
        "id": "kIruC1uZDqR5",
        "colab": {
          "base_uri": "https://localhost:8080/"
        },
        "outputId": "d92a00df-81b7-4d26-8987-0c4d1de240f3"
      },
      "execution_count": null,
      "outputs": [
        {
          "output_type": "stream",
          "name": "stdout",
          "text": [
            "Temps d'inférence : 4.621232032775879 secondes\n",
            "Accuracy Score: 0.9378245614035088\n"
          ]
        }
      ]
    },
    {
      "cell_type": "code",
      "source": [
        "from sklearn.metrics import confusion_matrix\n",
        "confusion_matrix_ = confusion_matrix(y_pred, y_test)\n",
        "\n",
        "#[row, column]\n",
        "TP = confusion_matrix_[1, 1]\n",
        "TN = confusion_matrix_[0, 0]\n",
        "FP = confusion_matrix_[0, 1]\n",
        "FN = confusion_matrix_[1, 0]\n",
        "\n",
        "group_names = ['TN','FP','FN','TP']\n",
        "\n",
        "group_counts = [\"{0:0.0f}\".format(value) for value in confusion_matrix_.flatten()]\n",
        "\n",
        "group_percentages = [\"{0:.2%}\".format(value) for value in confusion_matrix_.flatten()/np.sum(confusion_matrix_)]\n",
        "\n",
        "labels = [f\"{v1}\\n{v2}\\n{v3}\" for v1, v2, v3 in zip(group_names,group_counts,group_percentages)]\n",
        "\n",
        "labels = np.asarray(labels).reshape(2,2)\n",
        "\n",
        "sns.heatmap(confusion_matrix_, annot=labels, fmt='', cmap='Greens')"
      ],
      "metadata": {
        "colab": {
          "base_uri": "https://localhost:8080/",
          "height": 447
        },
        "id": "xvw16rraDvgd",
        "outputId": "5519de39-563f-4643-ee4f-148a004ce5f5"
      },
      "execution_count": null,
      "outputs": [
        {
          "output_type": "execute_result",
          "data": {
            "text/plain": [
              "<Axes: >"
            ]
          },
          "metadata": {},
          "execution_count": 335
        },
        {
          "output_type": "display_data",
          "data": {
            "text/plain": [
              "<Figure size 640x480 with 2 Axes>"
            ],
            "image/png": "[encoded data removed]"
          },
          "metadata": {}
        }
      ]
    },
    {
      "cell_type": "code",
      "source": [
        "from sklearn.metrics import accuracy_score, precision_score, recall_score, f1_score, mean_absolute_error, roc_auc_score"
      ],
      "metadata": {
        "id": "V5-Hx8TjEPmd"
      },
      "execution_count": null,
      "outputs": []
    },
    {
      "cell_type": "code",
      "source": [
        "# Accuracy Score\n",
        "Accuracy = accuracy_score(y_pred, y_test)\n",
        "print('Accuracy Score:', Accuracy)\n",
        "\n",
        "# Precision Score\n",
        "Precision = precision_score(y_pred, y_test)\n",
        "print('Precision Score:', Precision)\n",
        "\n",
        "# True positive Rate (TPR) or Sensitivity or Recall\n",
        "TPR = recall_score(y_pred, y_test)\n",
        "print('True positive Rate:', TPR)\n",
        "\n",
        "# False positive Rate (FPR)\n",
        "FPR = FP / float(TN + FP)\n",
        "print('False positive Rate', FPR)\n",
        "\n",
        "# F1 Score or F-Measure or F-Score\n",
        "F1 = f1_score(y_pred, y_test)\n",
        "print('F1 Score:', F1)\n",
        "\n",
        "# Specificity\n",
        "Specificity = TN / (TN + FP)\n",
        "print('Specificity:', Specificity)\n",
        "\n",
        "# Mean Absolute Error\n",
        "Error = mean_absolute_error(y_pred, y_test)\n",
        "print('Mean Absolute Error:', Error)\n",
        "\n",
        "# ROC Area\n",
        "Roc = roc_auc_score(y_pred, y_test)\n",
        "print('ROC Area:', Roc)"
      ],
      "metadata": {
        "id": "aqFSOG4XETk7",
        "outputId": "52df4d7b-1841-4b72-9dc0-3bfaaa8ff75e",
        "colab": {
          "base_uri": "https://localhost:8080/"
        }
      },
      "execution_count": null,
      "outputs": [
        {
          "output_type": "stream",
          "name": "stdout",
          "text": [
            "Accuracy Score: 0.9378245614035088\n",
            "Precision Score: 0.9493882091212458\n",
            "True positive Rate: 0.951929511487843\n",
            "False positive Rate 0.08610900832702498\n",
            "F1 Score: 0.9506571619514369\n",
            "Specificity: 0.913890991672975\n",
            "Mean Absolute Error: 0.06217543859649123\n",
            "ROC Area: 0.9329102515804091\n"
          ]
        }
      ]
    }
  ]
}